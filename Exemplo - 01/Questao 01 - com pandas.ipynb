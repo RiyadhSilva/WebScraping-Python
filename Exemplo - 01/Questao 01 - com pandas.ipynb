{
 "cells": [
  {
   "cell_type": "markdown",
   "metadata": {},
   "source": [
    "## Questão 01 - Riyadh Levi"
   ]
  },
  {
   "cell_type": "code",
   "execution_count": 3,
   "metadata": {
    "collapsed": true
   },
   "outputs": [],
   "source": [
    "# Importando pacote request externo ao Python\n",
    "import requests"
   ]
  },
  {
   "cell_type": "code",
   "execution_count": 6,
   "metadata": {
    "collapsed": true
   },
   "outputs": [],
   "source": [
    "# Definindo uma função para efetuar o download da página\n",
    "def download(url, num_retries=2):\n",
    "    print('Downloading: ', url)\n",
    "    page = None\n",
    "    try:\n",
    "        response = requests.get(url)\n",
    "        page = response.text\n",
    "        if response.status_code >= 400:\n",
    "            print('Download error:', response.text)\n",
    "            if num_retries and 500 <= response.status_code < 600:\n",
    "                return download(url, num_retries - 1)\n",
    "    except requests.exceptions.RequestExceptions as e:\n",
    "        print('Download error: ', e.reason)\n",
    "    return page"
   ]
  },
  {
   "cell_type": "code",
   "execution_count": 144,
   "metadata": {},
   "outputs": [
    {
     "name": "stdout",
     "output_type": "stream",
     "text": [
      "Downloading:  https://www.rottentomatoes.com/browse/tv-list-1\n"
     ]
    }
   ],
   "source": [
    "# Importanto pacote externo ao Python, efetuando o download do site e iniciando a 'sopa'\n",
    "from bs4 import BeautifulSoup\n",
    "url = 'https://www.rottentomatoes.com/browse/tv-list-1'\n",
    "html = download(url)\n",
    "soup = BeautifulSoup(html, 'html.parser')"
   ]
  },
  {
   "cell_type": "code",
   "execution_count": 145,
   "metadata": {
    "collapsed": true
   },
   "outputs": [],
   "source": [
    "# Capturando a tag tabela dentro do site e armazenando os dados em uma variável chamada t\n",
    "t = soup.find('table')"
   ]
  },
  {
   "cell_type": "code",
   "execution_count": 172,
   "metadata": {},
   "outputs": [
    {
     "data": {
      "text/plain": [
       "<table class=\"movie_list tv_list\" id=\"tv-list-21\">\n",
       "<tr class=\"tv_show_tr tvTopListTitle\">\n",
       "<td class=\"left_col\">\n",
       "<a href=\"https://www.rottentomatoes.com/tv/lucifer/s03\">\n",
       "<span class=\"icon tiny fresh\"></span>\n",
       "<span class=\"tMeterScore\">100%</span>\n",
       "</a>\n",
       "</td>\n",
       "<td class=\"middle_col\">\n",
       "<a href=\"https://www.rottentomatoes.com/tv/lucifer/s03\">Lucifer</a>\n",
       "</td>\n",
       "</tr><tr class=\"tv_show_tr tvTopListTitle\">\n",
       "<td class=\"left_col\">\n",
       "<a href=\"https://www.rottentomatoes.com/tv/supergirl/s03\">\n",
       "<span class=\"icon tiny fresh\"></span>\n",
       "<span class=\"tMeterScore\">86%</span>\n",
       "</a>\n",
       "</td>\n",
       "<td class=\"middle_col\">\n",
       "<a href=\"https://www.rottentomatoes.com/tv/supergirl/s03\">Supergirl</a>\n",
       "</td>\n",
       "</tr><tr class=\"tv_show_tr tvTopListTitle\">\n",
       "<td class=\"left_col\">\n",
       "<a href=\"https://www.rottentomatoes.com/tv/the_gifted/s01\">\n",
       "<span class=\"icon tiny fresh\"></span>\n",
       "<span class=\"tMeterScore\">71%</span>\n",
       "</a>\n",
       "</td>\n",
       "<td class=\"middle_col\">\n",
       "<a href=\"https://www.rottentomatoes.com/tv/the_gifted/s01\">The Gifted</a>\n",
       "</td>\n",
       "</tr><tr class=\"tv_show_tr tvTopListTitle\">\n",
       "<td class=\"left_col\">\n",
       "<a href=\"https://www.rottentomatoes.com/tv/the_good_doctor/s01\">\n",
       "<span class=\"icon tiny rotten\"></span>\n",
       "<span class=\"tMeterScore\">56%</span>\n",
       "</a>\n",
       "</td>\n",
       "<td class=\"middle_col\">\n",
       "<a href=\"https://www.rottentomatoes.com/tv/the_good_doctor/s01\">The Good Doctor</a>\n",
       "</td>\n",
       "</tr><tr class=\"tv_show_tr tvTopListTitle\">\n",
       "<td class=\"left_col\">\n",
       "<a href=\"https://www.rottentomatoes.com/tv/the_brave/s01\">\n",
       "<span class=\"icon tiny rotten\"></span>\n",
       "<span class=\"tMeterScore\">38%</span>\n",
       "</a>\n",
       "</td>\n",
       "<td class=\"middle_col\">\n",
       "<a href=\"https://www.rottentomatoes.com/tv/the_brave/s01\">The Brave</a>\n",
       "</td>\n",
       "</tr><tr class=\"tv_show_tr tvTopListTitle\">\n",
       "<td class=\"left_col\">\n",
       "<a href=\"https://www.rottentomatoes.com/tv/the_halcyon/s01\">\n",
       "<span class=\"icon tiny rotten\"></span>\n",
       "<span class=\"tMeterScore\">33%</span>\n",
       "</a>\n",
       "</td>\n",
       "<td class=\"middle_col\">\n",
       "<a href=\"https://www.rottentomatoes.com/tv/the_halcyon/s01\">The Halcyon</a>\n",
       "</td>\n",
       "</tr><tr class=\"tv_show_tr tvTopListTitle\">\n",
       "<td class=\"left_col\">\n",
       "<a href=\"https://www.rottentomatoes.com/tv/valor/s01\">\n",
       "<span class=\"icon tiny rotten\"></span>\n",
       "<span class=\"tMeterScore\">24%</span>\n",
       "</a>\n",
       "</td>\n",
       "<td class=\"middle_col\">\n",
       "<a href=\"https://www.rottentomatoes.com/tv/valor/s01\">Valor</a>\n",
       "</td>\n",
       "</tr><tr class=\"tv_show_tr tvTopListTitle\">\n",
       "<td class=\"left_col\">\n",
       "<a href=\"https://www.rottentomatoes.com/tv/9jkl/s01\">\n",
       "<span class=\"icon tiny rotten\"></span>\n",
       "<span class=\"tMeterScore\">13%</span>\n",
       "</a>\n",
       "</td>\n",
       "<td class=\"middle_col\">\n",
       "<a href=\"https://www.rottentomatoes.com/tv/9jkl/s01\">9JKL</a>\n",
       "</td>\n",
       "</tr><tr class=\"tv_show_tr tvTopListTitle\">\n",
       "<td class=\"left_col\">\n",
       "<a href=\"https://www.rottentomatoes.com/tv/ill_behaviour/s01\">\n",
       "<span class=\"tMeterIcon tiny noRating\">No Score Yet</span>\n",
       "</a>\n",
       "</td>\n",
       "<td class=\"middle_col\">\n",
       "<a href=\"https://www.rottentomatoes.com/tv/ill_behaviour/s01\">Ill Behaviour</a>\n",
       "</td>\n",
       "</tr><tr class=\"tv_show_tr tvTopListTitle\">\n",
       "<td class=\"left_col\">\n",
       "<a href=\"https://www.rottentomatoes.com/tv/man_with_a_plan/s02\">\n",
       "<span class=\"tMeterIcon tiny noRating\">No Score Yet</span>\n",
       "</a>\n",
       "</td>\n",
       "<td class=\"middle_col\">\n",
       "<a href=\"https://www.rottentomatoes.com/tv/man_with_a_plan/s02\">Man With a Plan</a>\n",
       "</td>\n",
       "</tr><tr class=\"tv_show_tr tvTopListTitle\">\n",
       "<td class=\"left_col\">\n",
       "<a href=\"https://www.rottentomatoes.com/tv/superior_donuts/s02\">\n",
       "<span class=\"tMeterIcon tiny noRating\">No Score Yet</span>\n",
       "</a>\n",
       "</td>\n",
       "<td class=\"middle_col\">\n",
       "<a href=\"https://www.rottentomatoes.com/tv/superior_donuts/s02\">Superior Donuts</a>\n",
       "</td>\n",
       "</tr><tr class=\"tv_show_tr tvTopListTitle\">\n",
       "<td class=\"left_col\">\n",
       "<a href=\"https://www.rottentomatoes.com/tv/scorpion/s04\">\n",
       "<span class=\"tMeterIcon tiny noRating\">No Score Yet</span>\n",
       "</a>\n",
       "</td>\n",
       "<td class=\"middle_col\">\n",
       "<a href=\"https://www.rottentomatoes.com/tv/scorpion/s04\">Scorpion</a>\n",
       "</td>\n",
       "</tr></table>"
      ]
     },
     "execution_count": 172,
     "metadata": {},
     "output_type": "execute_result"
    }
   ],
   "source": [
    "# Imprimindo a variável\n",
    "t"
   ]
  },
  {
   "cell_type": "code",
   "execution_count": 173,
   "metadata": {},
   "outputs": [
    {
     "data": {
      "text/plain": [
       "['\\n', <tr class=\"tv_show_tr tvTopListTitle\">\n",
       " <td class=\"left_col\">\n",
       " <a href=\"https://www.rottentomatoes.com/tv/lucifer/s03\">\n",
       " <span class=\"icon tiny fresh\"></span>\n",
       " <span class=\"tMeterScore\">100%</span>\n",
       " </a>\n",
       " </td>\n",
       " <td class=\"middle_col\">\n",
       " <a href=\"https://www.rottentomatoes.com/tv/lucifer/s03\">Lucifer</a>\n",
       " </td>\n",
       " </tr>, <tr class=\"tv_show_tr tvTopListTitle\">\n",
       " <td class=\"left_col\">\n",
       " <a href=\"https://www.rottentomatoes.com/tv/supergirl/s03\">\n",
       " <span class=\"icon tiny fresh\"></span>\n",
       " <span class=\"tMeterScore\">86%</span>\n",
       " </a>\n",
       " </td>\n",
       " <td class=\"middle_col\">\n",
       " <a href=\"https://www.rottentomatoes.com/tv/supergirl/s03\">Supergirl</a>\n",
       " </td>\n",
       " </tr>, <tr class=\"tv_show_tr tvTopListTitle\">\n",
       " <td class=\"left_col\">\n",
       " <a href=\"https://www.rottentomatoes.com/tv/the_gifted/s01\">\n",
       " <span class=\"icon tiny fresh\"></span>\n",
       " <span class=\"tMeterScore\">71%</span>\n",
       " </a>\n",
       " </td>\n",
       " <td class=\"middle_col\">\n",
       " <a href=\"https://www.rottentomatoes.com/tv/the_gifted/s01\">The Gifted</a>\n",
       " </td>\n",
       " </tr>, <tr class=\"tv_show_tr tvTopListTitle\">\n",
       " <td class=\"left_col\">\n",
       " <a href=\"https://www.rottentomatoes.com/tv/the_good_doctor/s01\">\n",
       " <span class=\"icon tiny rotten\"></span>\n",
       " <span class=\"tMeterScore\">56%</span>\n",
       " </a>\n",
       " </td>\n",
       " <td class=\"middle_col\">\n",
       " <a href=\"https://www.rottentomatoes.com/tv/the_good_doctor/s01\">The Good Doctor</a>\n",
       " </td>\n",
       " </tr>, <tr class=\"tv_show_tr tvTopListTitle\">\n",
       " <td class=\"left_col\">\n",
       " <a href=\"https://www.rottentomatoes.com/tv/the_brave/s01\">\n",
       " <span class=\"icon tiny rotten\"></span>\n",
       " <span class=\"tMeterScore\">38%</span>\n",
       " </a>\n",
       " </td>\n",
       " <td class=\"middle_col\">\n",
       " <a href=\"https://www.rottentomatoes.com/tv/the_brave/s01\">The Brave</a>\n",
       " </td>\n",
       " </tr>, <tr class=\"tv_show_tr tvTopListTitle\">\n",
       " <td class=\"left_col\">\n",
       " <a href=\"https://www.rottentomatoes.com/tv/the_halcyon/s01\">\n",
       " <span class=\"icon tiny rotten\"></span>\n",
       " <span class=\"tMeterScore\">33%</span>\n",
       " </a>\n",
       " </td>\n",
       " <td class=\"middle_col\">\n",
       " <a href=\"https://www.rottentomatoes.com/tv/the_halcyon/s01\">The Halcyon</a>\n",
       " </td>\n",
       " </tr>, <tr class=\"tv_show_tr tvTopListTitle\">\n",
       " <td class=\"left_col\">\n",
       " <a href=\"https://www.rottentomatoes.com/tv/valor/s01\">\n",
       " <span class=\"icon tiny rotten\"></span>\n",
       " <span class=\"tMeterScore\">24%</span>\n",
       " </a>\n",
       " </td>\n",
       " <td class=\"middle_col\">\n",
       " <a href=\"https://www.rottentomatoes.com/tv/valor/s01\">Valor</a>\n",
       " </td>\n",
       " </tr>, <tr class=\"tv_show_tr tvTopListTitle\">\n",
       " <td class=\"left_col\">\n",
       " <a href=\"https://www.rottentomatoes.com/tv/9jkl/s01\">\n",
       " <span class=\"icon tiny rotten\"></span>\n",
       " <span class=\"tMeterScore\">13%</span>\n",
       " </a>\n",
       " </td>\n",
       " <td class=\"middle_col\">\n",
       " <a href=\"https://www.rottentomatoes.com/tv/9jkl/s01\">9JKL</a>\n",
       " </td>\n",
       " </tr>, <tr class=\"tv_show_tr tvTopListTitle\">\n",
       " <td class=\"left_col\">\n",
       " <a href=\"https://www.rottentomatoes.com/tv/ill_behaviour/s01\">\n",
       " <span class=\"tMeterIcon tiny noRating\">No Score Yet</span>\n",
       " </a>\n",
       " </td>\n",
       " <td class=\"middle_col\">\n",
       " <a href=\"https://www.rottentomatoes.com/tv/ill_behaviour/s01\">Ill Behaviour</a>\n",
       " </td>\n",
       " </tr>, <tr class=\"tv_show_tr tvTopListTitle\">\n",
       " <td class=\"left_col\">\n",
       " <a href=\"https://www.rottentomatoes.com/tv/man_with_a_plan/s02\">\n",
       " <span class=\"tMeterIcon tiny noRating\">No Score Yet</span>\n",
       " </a>\n",
       " </td>\n",
       " <td class=\"middle_col\">\n",
       " <a href=\"https://www.rottentomatoes.com/tv/man_with_a_plan/s02\">Man With a Plan</a>\n",
       " </td>\n",
       " </tr>, <tr class=\"tv_show_tr tvTopListTitle\">\n",
       " <td class=\"left_col\">\n",
       " <a href=\"https://www.rottentomatoes.com/tv/superior_donuts/s02\">\n",
       " <span class=\"tMeterIcon tiny noRating\">No Score Yet</span>\n",
       " </a>\n",
       " </td>\n",
       " <td class=\"middle_col\">\n",
       " <a href=\"https://www.rottentomatoes.com/tv/superior_donuts/s02\">Superior Donuts</a>\n",
       " </td>\n",
       " </tr>, <tr class=\"tv_show_tr tvTopListTitle\">\n",
       " <td class=\"left_col\">\n",
       " <a href=\"https://www.rottentomatoes.com/tv/scorpion/s04\">\n",
       " <span class=\"tMeterIcon tiny noRating\">No Score Yet</span>\n",
       " </a>\n",
       " </td>\n",
       " <td class=\"middle_col\">\n",
       " <a href=\"https://www.rottentomatoes.com/tv/scorpion/s04\">Scorpion</a>\n",
       " </td>\n",
       " </tr>]"
      ]
     },
     "execution_count": 173,
     "metadata": {},
     "output_type": "execute_result"
    }
   ],
   "source": [
    "# Imprimindo o conteúdo da variável\n",
    "t.contents"
   ]
  },
  {
   "cell_type": "code",
   "execution_count": 174,
   "metadata": {
    "collapsed": true
   },
   "outputs": [],
   "source": [
    "# Capturando o número de linhas da tabela (Número de elementos)\n",
    "numFilmes = (len(t.contents)-1)"
   ]
  },
  {
   "cell_type": "code",
   "execution_count": 175,
   "metadata": {},
   "outputs": [
    {
     "data": {
      "text/plain": [
       "12"
      ]
     },
     "execution_count": 175,
     "metadata": {},
     "output_type": "execute_result"
    }
   ],
   "source": [
    "# Imprimindo a quantidade de elementos\n",
    "numFilmes"
   ]
  },
  {
   "cell_type": "code",
   "execution_count": 176,
   "metadata": {},
   "outputs": [
    {
     "data": {
      "text/plain": [
       "'\\n\\n\\n\\n100%\\n\\n\\n\\nLucifer\\n\\n'"
      ]
     },
     "execution_count": 176,
     "metadata": {},
     "output_type": "execute_result"
    }
   ],
   "source": [
    "# Ao pegar o texto dentro do conteúdo da tabela vem também caracteres que não são interesantes, é preciso 'varrer'\n",
    "t.contents[1].get_text()"
   ]
  },
  {
   "cell_type": "code",
   "execution_count": 151,
   "metadata": {
    "collapsed": true
   },
   "outputs": [],
   "source": [
    "# Cria uma lista vazia, para cada filme dentro do conteúdo da tabela adiciona o filme a lista, sendo que os caracteres não interessantes serão varridos\n",
    "lista_filmes = []\n",
    "for filme in t.contents:\n",
    "    if filme != '\\n':\n",
    "        # O primeiro .replace substitui os '\\n' presentes no conteúdo por ''\n",
    "        # O segundo  .replace substitui os '%' presentes no conteúdo por '% - '\n",
    "        # O terceiro .replace substitui os 'No Score Yet' presentes no conteúdo por 'SA' (Sem Avaliação)\n",
    "        lista_filmes.append(filme.get_text().replace('\\n','').replace('%', '% - ').replace('No Score Yet', 'SA - '))"
   ]
  },
  {
   "cell_type": "code",
   "execution_count": 152,
   "metadata": {},
   "outputs": [
    {
     "data": {
      "text/plain": [
       "['100% - Lucifer',\n",
       " '86% - Supergirl',\n",
       " '71% - The Gifted',\n",
       " '56% - The Good Doctor',\n",
       " '38% - The Brave',\n",
       " '33% - The Halcyon',\n",
       " '24% - Valor',\n",
       " '13% - 9JKL',\n",
       " 'SA - Ill Behaviour',\n",
       " 'SA - Man With a Plan',\n",
       " 'SA - Superior Donuts',\n",
       " 'SA - Scorpion']"
      ]
     },
     "execution_count": 152,
     "metadata": {},
     "output_type": "execute_result"
    }
   ],
   "source": [
    "# Imprime os filmes dentro da lista, já tratados\n",
    "lista_filmes"
   ]
  },
  {
   "cell_type": "code",
   "execution_count": 212,
   "metadata": {
    "collapsed": true
   },
   "outputs": [],
   "source": [
    "# Cria uma lista vazia (será armazenado dicionários dentro dela)\n",
    "list_dict = []"
   ]
  },
  {
   "cell_type": "code",
   "execution_count": 213,
   "metadata": {
    "collapsed": true
   },
   "outputs": [],
   "source": [
    "# Para cada filme na lista de filmes, é criado um dicionário com o Nome: nome, Avaliação: avaliação e esse dicionário é adicionado a lista list_dict\n",
    "for filme in lista_filmes:\n",
    "    list_dict.append({'Nome' : filme.split('-')[1], 'Avaliação' : filme.split('-')[0]})\n"
   ]
  },
  {
   "cell_type": "code",
   "execution_count": 214,
   "metadata": {},
   "outputs": [
    {
     "data": {
      "text/plain": [
       "[{'Avaliação': '100% ', 'Nome': ' Lucifer'},\n",
       " {'Avaliação': '86% ', 'Nome': ' Supergirl'},\n",
       " {'Avaliação': '71% ', 'Nome': ' The Gifted'},\n",
       " {'Avaliação': '56% ', 'Nome': ' The Good Doctor'},\n",
       " {'Avaliação': '38% ', 'Nome': ' The Brave'},\n",
       " {'Avaliação': '33% ', 'Nome': ' The Halcyon'},\n",
       " {'Avaliação': '24% ', 'Nome': ' Valor'},\n",
       " {'Avaliação': '13% ', 'Nome': ' 9JKL'},\n",
       " {'Avaliação': 'SA ', 'Nome': ' Ill Behaviour'},\n",
       " {'Avaliação': 'SA ', 'Nome': ' Man With a Plan'},\n",
       " {'Avaliação': 'SA ', 'Nome': ' Superior Donuts'},\n",
       " {'Avaliação': 'SA ', 'Nome': ' Scorpion'}]"
      ]
     },
     "execution_count": 214,
     "metadata": {},
     "output_type": "execute_result"
    }
   ],
   "source": [
    "# Imprime lista de dicionários\n",
    "list_dict"
   ]
  },
  {
   "cell_type": "code",
   "execution_count": 205,
   "metadata": {
    "collapsed": true
   },
   "outputs": [],
   "source": [
    "# Importa pacote externo ao Python\n",
    "import pandas as pd"
   ]
  },
  {
   "cell_type": "code",
   "execution_count": 216,
   "metadata": {},
   "outputs": [
    {
     "data": {
      "text/html": [
       "<div>\n",
       "<style>\n",
       "    .dataframe thead tr:only-child th {\n",
       "        text-align: right;\n",
       "    }\n",
       "\n",
       "    .dataframe thead th {\n",
       "        text-align: left;\n",
       "    }\n",
       "\n",
       "    .dataframe tbody tr th {\n",
       "        vertical-align: top;\n",
       "    }\n",
       "</style>\n",
       "<table border=\"1\" class=\"dataframe\">\n",
       "  <thead>\n",
       "    <tr style=\"text-align: right;\">\n",
       "      <th></th>\n",
       "      <th>Nome</th>\n",
       "      <th>Avaliação</th>\n",
       "    </tr>\n",
       "  </thead>\n",
       "  <tbody>\n",
       "    <tr>\n",
       "      <th>0</th>\n",
       "      <td>Lucifer</td>\n",
       "      <td>100%</td>\n",
       "    </tr>\n",
       "    <tr>\n",
       "      <th>1</th>\n",
       "      <td>Supergirl</td>\n",
       "      <td>86%</td>\n",
       "    </tr>\n",
       "    <tr>\n",
       "      <th>2</th>\n",
       "      <td>The Gifted</td>\n",
       "      <td>71%</td>\n",
       "    </tr>\n",
       "    <tr>\n",
       "      <th>3</th>\n",
       "      <td>The Good Doctor</td>\n",
       "      <td>56%</td>\n",
       "    </tr>\n",
       "    <tr>\n",
       "      <th>4</th>\n",
       "      <td>The Brave</td>\n",
       "      <td>38%</td>\n",
       "    </tr>\n",
       "    <tr>\n",
       "      <th>5</th>\n",
       "      <td>The Halcyon</td>\n",
       "      <td>33%</td>\n",
       "    </tr>\n",
       "    <tr>\n",
       "      <th>6</th>\n",
       "      <td>Valor</td>\n",
       "      <td>24%</td>\n",
       "    </tr>\n",
       "    <tr>\n",
       "      <th>7</th>\n",
       "      <td>9JKL</td>\n",
       "      <td>13%</td>\n",
       "    </tr>\n",
       "    <tr>\n",
       "      <th>8</th>\n",
       "      <td>Ill Behaviour</td>\n",
       "      <td>SA</td>\n",
       "    </tr>\n",
       "    <tr>\n",
       "      <th>9</th>\n",
       "      <td>Man With a Plan</td>\n",
       "      <td>SA</td>\n",
       "    </tr>\n",
       "    <tr>\n",
       "      <th>10</th>\n",
       "      <td>Superior Donuts</td>\n",
       "      <td>SA</td>\n",
       "    </tr>\n",
       "    <tr>\n",
       "      <th>11</th>\n",
       "      <td>Scorpion</td>\n",
       "      <td>SA</td>\n",
       "    </tr>\n",
       "  </tbody>\n",
       "</table>\n",
       "</div>"
      ],
      "text/plain": [
       "                Nome Avaliação\n",
       "0            Lucifer     100% \n",
       "1          Supergirl      86% \n",
       "2         The Gifted      71% \n",
       "3    The Good Doctor      56% \n",
       "4          The Brave      38% \n",
       "5        The Halcyon      33% \n",
       "6              Valor      24% \n",
       "7               9JKL      13% \n",
       "8      Ill Behaviour       SA \n",
       "9    Man With a Plan       SA \n",
       "10   Superior Donuts       SA \n",
       "11          Scorpion       SA "
      ]
     },
     "execution_count": 216,
     "metadata": {},
     "output_type": "execute_result"
    }
   ],
   "source": [
    "# Cria uma tabela recebendo a lista de dicionários como parâmetro e a ordem das colunas passa a ser 'Nome' e 'Avaliação'\n",
    "pd.DataFrame(list_dict).filter(items=['Nome','Avaliação'])"
   ]
  },
  {
   "cell_type": "code",
   "execution_count": null,
   "metadata": {
    "collapsed": true
   },
   "outputs": [],
   "source": []
  }
 ],
 "metadata": {
  "kernelspec": {
   "display_name": "Python 3",
   "language": "python",
   "name": "python3"
  },
  "language_info": {
   "codemirror_mode": {
    "name": "ipython",
    "version": 3
   },
   "file_extension": ".py",
   "mimetype": "text/x-python",
   "name": "python",
   "nbconvert_exporter": "python",
   "pygments_lexer": "ipython3",
   "version": "3.6.3"
  }
 },
 "nbformat": 4,
 "nbformat_minor": 2
}
