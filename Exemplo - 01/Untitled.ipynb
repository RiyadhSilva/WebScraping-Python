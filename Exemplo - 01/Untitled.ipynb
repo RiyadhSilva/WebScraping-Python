{
 "cells": [
  {
   "cell_type": "code",
   "execution_count": 1,
   "metadata": {},
   "outputs": [
    {
     "ename": "SyntaxError",
     "evalue": "EOL while scanning string literal (<ipython-input-1-9f75fd06450e>, line 1)",
     "output_type": "error",
     "traceback": [
      "\u001b[1;36m  File \u001b[1;32m\"<ipython-input-1-9f75fd06450e>\"\u001b[1;36m, line \u001b[1;32m1\u001b[0m\n\u001b[1;33m    s = \"var mps=mps||{}; mps._queue=mps._queue||{}; mps._queue.gptloaded=mps._queue.gptloaded||[];\u001b[0m\n\u001b[1;37m                                                                                                   ^\u001b[0m\n\u001b[1;31mSyntaxError\u001b[0m\u001b[1;31m:\u001b[0m EOL while scanning string literal\n"
     ]
    }
   ],
   "source": [
    "s = \"var mps=mps||{}; mps._queue=mps._queue||{}; mps._queue.gptloaded=mps._queue.gptloaded||[]; require([\"globals\"], function(RT) { var loadPage = (function(adPromise) {\n",
    "                    require([\"jquery\", \"underscore\", \"media-browser\", \"nouislider\"], function($, _, mount, noUiSlider) {\n",
    "                        RT.browserUrlReady = $.Deferred();\n",
    "                        window.noUiSlider = noUiSlider;\n",
    "                        mount(\n",
    "                            document.getElementById('main-row'), '', {\n",
    "                                tvListTitle1: 'New TV Tonight',\n",
    "                                tvListTitle2: 'Most Popular TV on RT',\n",
    "                                tvListTitle3: 'Certified Fresh TV'\n",
    "                            }, {\n",
    "                                count: Number('22'),\n",
    "                                total: Number('22')\n",
    "                            },\""
   ]
  },
  {
   "cell_type": "code",
   "execution_count": null,
   "metadata": {
    "collapsed": true
   },
   "outputs": [],
   "source": []
  }
 ],
 "metadata": {
  "kernelspec": {
   "display_name": "Python 3",
   "language": "python",
   "name": "python3"
  },
  "language_info": {
   "codemirror_mode": {
    "name": "ipython",
    "version": 3
   },
   "file_extension": ".py",
   "mimetype": "text/x-python",
   "name": "python",
   "nbconvert_exporter": "python",
   "pygments_lexer": "ipython3",
   "version": "3.6.3"
  }
 },
 "nbformat": 4,
 "nbformat_minor": 2
}
