{
 "cells": [
  {
   "cell_type": "code",
   "execution_count": 1,
   "metadata": {
    "collapsed": true
   },
   "outputs": [],
   "source": [
    "# Importando pacote request externo ao Python\n",
    "import requests\n",
    "from bs4 import BeautifulSoup"
   ]
  },
  {
   "cell_type": "code",
   "execution_count": 2,
   "metadata": {
    "collapsed": true
   },
   "outputs": [],
   "source": [
    "# Definindo uma função para efetuar o download da página\n",
    "def download(url, num_retries=2):\n",
    "    print('Downloading: ', url)\n",
    "    page = None\n",
    "    try:\n",
    "        response = requests.get(url)\n",
    "        page = response.text\n",
    "        if response.status_code >= 400:\n",
    "            print('Download error:', response.text)\n",
    "            if num_retries and 500 <= response.status_code < 600:\n",
    "                return download(url, num_retries - 1)\n",
    "    except requests.exceptions.RequestExceptions as e:\n",
    "        print('Download error: ', e.reason)\n",
    "    return page"
   ]
  },
  {
   "cell_type": "code",
   "execution_count": 3,
   "metadata": {},
   "outputs": [
    {
     "name": "stdout",
     "output_type": "stream",
     "text": [
      "Downloading:  https://www.rottentomatoes.com/browse/tv-list-1\n"
     ]
    }
   ],
   "source": [
    "#efetuando o download do site e iniciando a 'sopa'\n",
    "url = 'https://www.rottentomatoes.com/browse/tv-list-1'\n",
    "html = download(url)\n",
    "soup = BeautifulSoup(html, 'html.parser')"
   ]
  },
  {
   "cell_type": "code",
   "execution_count": 268,
   "metadata": {},
   "outputs": [],
   "source": [
    "# Backup\n",
    "file = open('page_q01.txt', 'w')\n",
    "file.write(str(soup.prettify))\n",
    "file.close()"
   ]
  },
  {
   "cell_type": "code",
   "execution_count": 293,
   "metadata": {},
   "outputs": [
    {
     "name": "stdout",
     "output_type": "stream",
     "text": [
      "Script encontrado! Posição: 38 de 54\n"
     ]
    }
   ],
   "source": [
    "# Os dados de interesse estão contidos em uma tag <script>\n",
    "# Pesquiso todos os scripts da página\n",
    "scripts = soup.find_all('script')\n",
    "position = 0\n",
    "script = ''\n",
    "# Efetuo uma busca por o script que contém o nome de uma série (estudando a estrutura do site, só existe 1!)\n",
    "for s in scripts:\n",
    "    if s.get_text().count('The Flash') == 1:\n",
    "        print('Script encontrado!' + ' Posição: %d'%(position) + ' de ' + str(len(scripts)))\n",
    "        script = s.get_text()\n",
    "    position+=1"
   ]
  },
  {
   "cell_type": "code",
   "execution_count": 278,
   "metadata": {},
   "outputs": [
    {
     "data": {
      "text/plain": [
       "'\\n            var mps=mps||{}; mps._queue=mps._queue||{}; mps._queue.gptloaded=mps._queue.gptloaded||[];\\n            require([\"globals\"], function(RT) {\\n                var loadPage = (function(adPromise) {\\n                    require([\"jquery\", \"underscore\", \"media-browser\", \"nouislider\"], function($, _, mount, noUiSlider) {\\n                        RT.browserUrlReady = $.Deferred();\\n                        window.noUiSlider = noUiSlider;\\n                        mount(\\n                            document.getElementById(\\'main-row\\'), \\'\\', {\\n                                tvListTitle1: \\'New TV Tonight\\',\\n                                tvListTitle2: \\'Most Popular TV on RT\\',\\n                                tvListTitle3: \\'Certified Fresh TV\\'\\n                            }, {\\n                                count: Number(\\'22\\'),\\n                                total: Number(\\'22\\')\\n                            },\\n                            [{\"title\":\"The Flash: Season 4\",\"tomatoIcon\":\"fresh\",\"tomatoScore\":100,\"posters\":{\"primary\":\"https://resizing.flixster.com/KBDnSHwk9VQvfZSVo4hAs9dV8ew=/800x1200/v1.dDsyNjMxMzk7ajsxNzUwODsxMjAwOzgwMDsxMjAw\"},\"url\":\"/tv/flash/s04\"},{\"title\":\"DC\\'s Legends of Tomorrow: Season 3\",\"tomatoIcon\":\"fresh\",\"tomatoScore\":100,\"posters\":{\"primary\":\"https://resizing.flixster.com/huYTJqqUEsXhVZjfpqunP-AFSB8=/800x1200/v1.dDsyNjMxMzg7ajsxNzUwODsxMjAwOzgwMDsxMjAw\"},\"url\":\"/tv/dc_s_legends_of_tomorrow/s03\"},{\"title\":\"At Home With Amy Sedaris: Season 1\",\"tomatoIcon\":\"fresh\",\"tomatoScore\":100,\"posters\":{\"primary\":\"https://resizing.flixster.com/mWrCh15w-ayelcbQocTOA6tTJ8c=/1600x2400/v1.dDsyNjUyMzk7ajsxNzUwODsxMjAwOzE2MDA7MjQwMA\"},\"url\":\"/tv/at_home_with_amy_sedaris/s01\"},{\"title\":\"This Is Us: Season 2\",\"tomatoIcon\":\"fresh\",\"tomatoScore\":94,\"posters\":{\"primary\":\"https://resizing.flixster.com/9TBkvtd1HrQrmXSqcOGnAePusZg=/1586x2379/v1.dDsyNjAyOTQ7ajsxNzUwODsxMjAwOzE1ODY7MjM3OQ\"},\"url\":\"/tv/this_is_us/s02\"},{\"title\":\"Loudermilk: Season 1\",\"tomatoIcon\":\"fresh\",\"tomatoScore\":91,\"posters\":{\"primary\":\"https://resizing.flixster.com/2vTJUkyH2O50R_vVnw19HVSY7F0=/898x1347/v1.dDsyNjQwOTc7ajsxNzUwODsxMjAwOzg5ODsxMzQ3\"},\"url\":\"/tv/loudermilk/s01\"},{\"title\":\"Marvel\\'s Runaways: Season 1\",\"tomatoIcon\":\"fresh\",\"tomatoScore\":79,\"posters\":{\"primary\":\"https://resizing.flixster.com/4DPaelNDSiu2yjEO8odc4NtAAeQ=/628x960/v1.dDsyNjUyOTg7ajsxNzUwODsxMjAwOzYyODs5NjA\"},\"url\":\"/tv/marvel_s_runaways/s01\"},{\"title\":\"The Long Road Home: Miniseries\",\"tomatoIcon\":\"fresh\",\"tomatoScore\":82,\"posters\":{\"primary\":\"https://resizing.flixster.com/JhCwRQGSU36AFMo4Cr29tS8s_xs=/600x908/v1.dDsyNjQ2OTk7ajsxNzUwODsxMjAwOzYwMDs5MDg\"},\"url\":\"/tv/the_long_road_home/s01\"},{\"title\":\"Damnation: Season 1\",\"tomatoIcon\":\"rotten\",\"tomatoScore\":56,\"posters\":{\"primary\":\"https://resizing.flixster.com/zB5eX7UX8fWB3DAtUR6OORTpagM=/960x1440/v1.dDsyNjU4NjQ7ajsxNzUwODsxMjAwOzk2MDsxNDQw\"},\"url\":\"/tv/damnation/s01\"},{\"title\":\"Hit the Road: Season 1\",\"tomatoIcon\":\"rotten\",\"tomatoScore\":0,\"posters\":{\"primary\":\"https://resizing.flixster.com/21XZO6-xIhGR2S0yqbLhfalP7eI=/240x360/v1.dDsyNjM4NTA7ajsxNzUwODsxMjAwOzI0MDszNjA\"},\"url\":\"/tv/hit_the_road/s01\"},{\"title\":\"Bull: Season 2\",\"tomatoIcon\":\"NA\",\"posters\":{\"primary\":\"https://resizing.flixster.com/wghNIydnpxfhoWiQg10MeNv0_EM=/1600x2400/v1.dDsyNjQ2Nzc7ajsxNzUwODsxMjAwOzE2MDA7MjQwMA\"},\"url\":\"/tv/bull/s02\"},{\"title\":\"NCIS: Season 15\",\"tomatoIcon\":\"NA\",\"posters\":{\"primary\":\"https://resizing.flixster.com/TkN3RryZLXN4gcRJyuSYvZYUD_w=/1600x2400/v1.dDsyNjI2MTQ7ajsxNzUwODsxMjAwOzE2MDA7MjQwMA\"},\"url\":\"/tv/ncis/s15\"},{\"title\":\"NCIS: New Orleans: Season 4\",\"tomatoIcon\":\"NA\",\"posters\":{\"primary\":\"https://resizing.flixster.com/aZrpy103TLLi6KDbcmYwmhonmig=/1536x2048/v1.dDsxMzI5MDk7ajsxNzUwNjsxMjAwOzE1MzY7MjA0OA\"},\"url\":\"/tv/ncis_new_orleans/s04\"},{\"title\":\"The Mick: Season 2\",\"tomatoIcon\":\"NA\",\"posters\":{\"primary\":\"https://resizing.flixster.com/8IhPF0dcokkdATsQW2BpiMr4_TE=/1600x2400/v1.dDsyNjIwNjk7ajsxNzUwODsxMjAwOzE2MDA7MjQwMA\"},\"url\":\"/tv/the_mick/s02\"},{\"title\":\"Fresh Off the Boat: Season 4\",\"tomatoIcon\":\"NA\",\"posters\":{\"primary\":\"https://resizing.flixster.com/9WYuNdDJjnVWhQCzIGxqGEqtShY=/2000x3000/v1.dDsyNjMxNDA7ajsxNzUwODsxMjAwOzIwMDA7MzAwMA\"},\"url\":\"/tv/fresh_off_the_boat/s04\"},{\"title\":\"Chicago Med: Season 3\",\"tomatoIcon\":\"NA\",\"posters\":{\"primary\":\"https://resizing.flixster.com/tIPYBG2v3gtm1ecFONxpKmgsVCc=/750x1000/v1.dDsyNjYwMDg7ajsxNzUwODsxMjAwOzc1MDsxMDAw\"},\"url\":\"/tv/chicago_med/s03\"},{\"title\":\"Teachers: Season 2\",\"tomatoIcon\":\"NA\",\"posters\":{\"primary\":\"https://resizing.flixster.com/-9jfey8KJ69aTCFqfvdjE6wHypM=/1000x1500/v1.dDsyNjU4MDQ7ajsxNzUwODsxMjAwOzEwMDA7MTUwMA\"},\"url\":\"/tv/teachers/s02\"},{\"title\":\"Lethal Weapon: Season 2\",\"tomatoIcon\":\"NA\",\"posters\":{\"primary\":\"https://resizing.flixster.com/HZsSgxYS9KZ2USu3WIid91jGf_8=/1600x2400/v1.dDsyNjIwNjg7ajsxNzUwODsxMjAwOzE2MDA7MjQwMA\"},\"url\":\"/tv/lethal_weapon/s02\"},{\"title\":\"The Middle: Season 9\",\"tomatoIcon\":\"NA\",\"posters\":{\"primary\":\"https://resizing.flixster.com/XBvUjBqxvxOFWY7p30igNpiAtM8=/900x1200/v1.dDs5MDAxNTtqOzE3NTA2OzEyMDA7OTAwOzEyMDA\"},\"url\":\"/tv/the_middle/s09\"},{\"title\":\"Leah Remini: Scientology and the Aftermath: Season 2\",\"tomatoIcon\":\"NA\",\"posters\":{\"primary\":\"https://resizing.flixster.com/L2Qca0nqu4cdSrKgpVrAPASRKHY=/1600x2400/v1.dDsyNTk4MTQ7ajsxNzUwODsxMjAwOzE2MDA7MjQwMA\"},\"url\":\"/tv/leah_remini_scientology_and_the_aftermath/s02\"},{\"title\":\"Major Crimes: Season 6\",\"tomatoIcon\":\"NA\",\"posters\":{\"primary\":\"https://resizing.flixster.com/mHm0ykRg2YpQan5d9077dSdr_CI=/1600x2400/v1.dDsyNjUwNDc7ajsxNzUwODsxMjAwOzE2MDA7MjQwMA\"},\"url\":\"/tv/major_crimes/s06\"},{\"title\":\"Brooklyn Nine-Nine: Season 5\",\"tomatoIcon\":\"NA\",\"posters\":{\"primary\":\"https://resizing.flixster.com/Ow_MAikr5mdGuuwhAPlL3e1dBEw=/1536x2048/v1.dDsxMzQ4NTg7ajsxNzUwNjsxMjAwOzE1MzY7MjA0OA\"},\"url\":\"/tv/brooklyn_nine_nine/s05\"},{\"title\":\"If Loving You Is Wrong: Season 3\",\"tomatoIcon\":\"NA\",\"posters\":{\"primary\":\"https://resizing.flixster.com/Zf7R0DU_uzaKcLT5fnpuQrPXnqs=/1600x2400/v1.dDsyNjYwNjI7ajsxNzUwODsxMjAwOzE2MDA7MjQwMA\"},\"url\":\"/tv/if_loving_you_is_wrong/s03\"}],\\n                            mps,\\n                            adPromise\\n                        );\\n                        //Let Omniture know once the URL is updated with the filter string.\\n                        RT.browserUrlReady.resolve();\\n\\n                        // Modal Trailer\\n                        require([RT.StaticHost + \"/static/dist/jspjs/modalTrailer.jsp.min.js\"], function(ModalTrailer) {\\n                            new ModalTrailer({ el: $(\"body\"), vanity:\\'\\' });\\n                        });\\n                    });\\n                });\\n                if (\\'undefined\\' !== typeof Promise) {\\n                    var adPromise = new Promise(function(resolve, reject) {});\\n                    RT.adPromises.push(adPromise);\\n                    loadPage(adPromise);\\n                } else {\\n                    require([\"rsvp\"], function(RSVP) {\\n                        var adPromise = new RSVP.Promise(function(resolve, reject) {});\\n                        RT.adPromises.push(adPromise);\\n                        loadPage(adPromise);\\n                    })\\n                }\\n            });\\n        '"
      ]
     },
     "execution_count": 278,
     "metadata": {},
     "output_type": "execute_result"
    }
   ],
   "source": [
    "# Imprimo o script\n",
    "script"
   ]
  },
  {
   "cell_type": "code",
   "execution_count": 36,
   "metadata": {
    "collapsed": true
   },
   "outputs": [],
   "source": [
    "# Blibioteca para expressões regulares\n",
    "import re"
   ]
  },
  {
   "cell_type": "code",
   "execution_count": 279,
   "metadata": {},
   "outputs": [],
   "source": [
    "# Pego a posição que se inicia '[{' no meu script e atribuo o valor à variável início\n",
    "inicio = script.find('[{')"
   ]
  },
  {
   "cell_type": "code",
   "execution_count": 280,
   "metadata": {},
   "outputs": [],
   "source": [
    "# Pego a posição que se inicia '}]' no meu script e atribuo o valor à variável fim, adicionando 2, assim pegando a posição de fim de '}]'\n",
    "fim = (script.find('}]') + 2)"
   ]
  },
  {
   "cell_type": "code",
   "execution_count": 281,
   "metadata": {},
   "outputs": [],
   "source": [
    "# Efetuo um slice no meu script, atribuindo esse valor à variável script\n",
    "script = script[inicio:fim]"
   ]
  },
  {
   "cell_type": "code",
   "execution_count": 282,
   "metadata": {},
   "outputs": [
    {
     "data": {
      "text/plain": [
       "['[{\"title\":\"The Flash: Season 4\"',\n",
       " '\"tomatoIcon\":\"fresh\"',\n",
       " '\"tomatoScore\":100',\n",
       " '\"posters\":{\"primary\":\"https://resizing.flixster.com/KBDnSHwk9VQvfZSVo4hAs9dV8ew=/800x1200/v1.dDsyNjMxMzk7ajsxNzUwODsxMjAwOzgwMDsxMjAw\"}',\n",
       " '\"url\":\"/tv/flash/s04\"}',\n",
       " '{\"title\":\"DC\\'s Legends of Tomorrow: Season 3\"',\n",
       " '\"tomatoIcon\":\"fresh\"',\n",
       " '\"tomatoScore\":100',\n",
       " '\"posters\":{\"primary\":\"https://resizing.flixster.com/huYTJqqUEsXhVZjfpqunP-AFSB8=/800x1200/v1.dDsyNjMxMzg7ajsxNzUwODsxMjAwOzgwMDsxMjAw\"}',\n",
       " '\"url\":\"/tv/dc_s_legends_of_tomorrow/s03\"}',\n",
       " '{\"title\":\"At Home With Amy Sedaris: Season 1\"',\n",
       " '\"tomatoIcon\":\"fresh\"',\n",
       " '\"tomatoScore\":100',\n",
       " '\"posters\":{\"primary\":\"https://resizing.flixster.com/mWrCh15w-ayelcbQocTOA6tTJ8c=/1600x2400/v1.dDsyNjUyMzk7ajsxNzUwODsxMjAwOzE2MDA7MjQwMA\"}',\n",
       " '\"url\":\"/tv/at_home_with_amy_sedaris/s01\"}',\n",
       " '{\"title\":\"This Is Us: Season 2\"',\n",
       " '\"tomatoIcon\":\"fresh\"',\n",
       " '\"tomatoScore\":94',\n",
       " '\"posters\":{\"primary\":\"https://resizing.flixster.com/9TBkvtd1HrQrmXSqcOGnAePusZg=/1586x2379/v1.dDsyNjAyOTQ7ajsxNzUwODsxMjAwOzE1ODY7MjM3OQ\"}',\n",
       " '\"url\":\"/tv/this_is_us/s02\"}',\n",
       " '{\"title\":\"Loudermilk: Season 1\"',\n",
       " '\"tomatoIcon\":\"fresh\"',\n",
       " '\"tomatoScore\":91',\n",
       " '\"posters\":{\"primary\":\"https://resizing.flixster.com/2vTJUkyH2O50R_vVnw19HVSY7F0=/898x1347/v1.dDsyNjQwOTc7ajsxNzUwODsxMjAwOzg5ODsxMzQ3\"}',\n",
       " '\"url\":\"/tv/loudermilk/s01\"}',\n",
       " '{\"title\":\"Marvel\\'s Runaways: Season 1\"',\n",
       " '\"tomatoIcon\":\"fresh\"',\n",
       " '\"tomatoScore\":79',\n",
       " '\"posters\":{\"primary\":\"https://resizing.flixster.com/4DPaelNDSiu2yjEO8odc4NtAAeQ=/628x960/v1.dDsyNjUyOTg7ajsxNzUwODsxMjAwOzYyODs5NjA\"}',\n",
       " '\"url\":\"/tv/marvel_s_runaways/s01\"}',\n",
       " '{\"title\":\"The Long Road Home: Miniseries\"',\n",
       " '\"tomatoIcon\":\"fresh\"',\n",
       " '\"tomatoScore\":82',\n",
       " '\"posters\":{\"primary\":\"https://resizing.flixster.com/JhCwRQGSU36AFMo4Cr29tS8s_xs=/600x908/v1.dDsyNjQ2OTk7ajsxNzUwODsxMjAwOzYwMDs5MDg\"}',\n",
       " '\"url\":\"/tv/the_long_road_home/s01\"}',\n",
       " '{\"title\":\"Damnation: Season 1\"',\n",
       " '\"tomatoIcon\":\"rotten\"',\n",
       " '\"tomatoScore\":56',\n",
       " '\"posters\":{\"primary\":\"https://resizing.flixster.com/zB5eX7UX8fWB3DAtUR6OORTpagM=/960x1440/v1.dDsyNjU4NjQ7ajsxNzUwODsxMjAwOzk2MDsxNDQw\"}',\n",
       " '\"url\":\"/tv/damnation/s01\"}',\n",
       " '{\"title\":\"Hit the Road: Season 1\"',\n",
       " '\"tomatoIcon\":\"rotten\"',\n",
       " '\"tomatoScore\":0',\n",
       " '\"posters\":{\"primary\":\"https://resizing.flixster.com/21XZO6-xIhGR2S0yqbLhfalP7eI=/240x360/v1.dDsyNjM4NTA7ajsxNzUwODsxMjAwOzI0MDszNjA\"}',\n",
       " '\"url\":\"/tv/hit_the_road/s01\"}',\n",
       " '{\"title\":\"Bull: Season 2\"',\n",
       " '\"tomatoIcon\":\"NA\"',\n",
       " '\"posters\":{\"primary\":\"https://resizing.flixster.com/wghNIydnpxfhoWiQg10MeNv0_EM=/1600x2400/v1.dDsyNjQ2Nzc7ajsxNzUwODsxMjAwOzE2MDA7MjQwMA\"}',\n",
       " '\"url\":\"/tv/bull/s02\"}',\n",
       " '{\"title\":\"NCIS: Season 15\"',\n",
       " '\"tomatoIcon\":\"NA\"',\n",
       " '\"posters\":{\"primary\":\"https://resizing.flixster.com/TkN3RryZLXN4gcRJyuSYvZYUD_w=/1600x2400/v1.dDsyNjI2MTQ7ajsxNzUwODsxMjAwOzE2MDA7MjQwMA\"}',\n",
       " '\"url\":\"/tv/ncis/s15\"}',\n",
       " '{\"title\":\"NCIS: New Orleans: Season 4\"',\n",
       " '\"tomatoIcon\":\"NA\"',\n",
       " '\"posters\":{\"primary\":\"https://resizing.flixster.com/aZrpy103TLLi6KDbcmYwmhonmig=/1536x2048/v1.dDsxMzI5MDk7ajsxNzUwNjsxMjAwOzE1MzY7MjA0OA\"}',\n",
       " '\"url\":\"/tv/ncis_new_orleans/s04\"}',\n",
       " '{\"title\":\"The Mick: Season 2\"',\n",
       " '\"tomatoIcon\":\"NA\"',\n",
       " '\"posters\":{\"primary\":\"https://resizing.flixster.com/8IhPF0dcokkdATsQW2BpiMr4_TE=/1600x2400/v1.dDsyNjIwNjk7ajsxNzUwODsxMjAwOzE2MDA7MjQwMA\"}',\n",
       " '\"url\":\"/tv/the_mick/s02\"}',\n",
       " '{\"title\":\"Fresh Off the Boat: Season 4\"',\n",
       " '\"tomatoIcon\":\"NA\"',\n",
       " '\"posters\":{\"primary\":\"https://resizing.flixster.com/9WYuNdDJjnVWhQCzIGxqGEqtShY=/2000x3000/v1.dDsyNjMxNDA7ajsxNzUwODsxMjAwOzIwMDA7MzAwMA\"}',\n",
       " '\"url\":\"/tv/fresh_off_the_boat/s04\"}',\n",
       " '{\"title\":\"Chicago Med: Season 3\"',\n",
       " '\"tomatoIcon\":\"NA\"',\n",
       " '\"posters\":{\"primary\":\"https://resizing.flixster.com/tIPYBG2v3gtm1ecFONxpKmgsVCc=/750x1000/v1.dDsyNjYwMDg7ajsxNzUwODsxMjAwOzc1MDsxMDAw\"}',\n",
       " '\"url\":\"/tv/chicago_med/s03\"}',\n",
       " '{\"title\":\"Teachers: Season 2\"',\n",
       " '\"tomatoIcon\":\"NA\"',\n",
       " '\"posters\":{\"primary\":\"https://resizing.flixster.com/-9jfey8KJ69aTCFqfvdjE6wHypM=/1000x1500/v1.dDsyNjU4MDQ7ajsxNzUwODsxMjAwOzEwMDA7MTUwMA\"}',\n",
       " '\"url\":\"/tv/teachers/s02\"}',\n",
       " '{\"title\":\"Lethal Weapon: Season 2\"',\n",
       " '\"tomatoIcon\":\"NA\"',\n",
       " '\"posters\":{\"primary\":\"https://resizing.flixster.com/HZsSgxYS9KZ2USu3WIid91jGf_8=/1600x2400/v1.dDsyNjIwNjg7ajsxNzUwODsxMjAwOzE2MDA7MjQwMA\"}',\n",
       " '\"url\":\"/tv/lethal_weapon/s02\"}',\n",
       " '{\"title\":\"The Middle: Season 9\"',\n",
       " '\"tomatoIcon\":\"NA\"',\n",
       " '\"posters\":{\"primary\":\"https://resizing.flixster.com/XBvUjBqxvxOFWY7p30igNpiAtM8=/900x1200/v1.dDs5MDAxNTtqOzE3NTA2OzEyMDA7OTAwOzEyMDA\"}',\n",
       " '\"url\":\"/tv/the_middle/s09\"}',\n",
       " '{\"title\":\"Leah Remini: Scientology and the Aftermath: Season 2\"',\n",
       " '\"tomatoIcon\":\"NA\"',\n",
       " '\"posters\":{\"primary\":\"https://resizing.flixster.com/L2Qca0nqu4cdSrKgpVrAPASRKHY=/1600x2400/v1.dDsyNTk4MTQ7ajsxNzUwODsxMjAwOzE2MDA7MjQwMA\"}',\n",
       " '\"url\":\"/tv/leah_remini_scientology_and_the_aftermath/s02\"}',\n",
       " '{\"title\":\"Major Crimes: Season 6\"',\n",
       " '\"tomatoIcon\":\"NA\"',\n",
       " '\"posters\":{\"primary\":\"https://resizing.flixster.com/mHm0ykRg2YpQan5d9077dSdr_CI=/1600x2400/v1.dDsyNjUwNDc7ajsxNzUwODsxMjAwOzE2MDA7MjQwMA\"}',\n",
       " '\"url\":\"/tv/major_crimes/s06\"}',\n",
       " '{\"title\":\"Brooklyn Nine-Nine: Season 5\"',\n",
       " '\"tomatoIcon\":\"NA\"',\n",
       " '\"posters\":{\"primary\":\"https://resizing.flixster.com/Ow_MAikr5mdGuuwhAPlL3e1dBEw=/1536x2048/v1.dDsxMzQ4NTg7ajsxNzUwNjsxMjAwOzE1MzY7MjA0OA\"}',\n",
       " '\"url\":\"/tv/brooklyn_nine_nine/s05\"}',\n",
       " '{\"title\":\"If Loving You Is Wrong: Season 3\"',\n",
       " '\"tomatoIcon\":\"NA\"',\n",
       " '\"posters\":{\"primary\":\"https://resizing.flixster.com/Zf7R0DU_uzaKcLT5fnpuQrPXnqs=/1600x2400/v1.dDsyNjYwNjI7ajsxNzUwODsxMjAwOzE2MDA7MjQwMA\"}',\n",
       " '\"url\":\"/tv/if_loving_you_is_wrong/s03\"}]']"
      ]
     },
     "execution_count": 282,
     "metadata": {},
     "output_type": "execute_result"
    }
   ],
   "source": [
    "# Efetuo um split no meu script e adiciono o valor retornado à variável dados\n",
    "dados = script.split(',')\n",
    "dados"
   ]
  },
  {
   "cell_type": "code",
   "execution_count": 294,
   "metadata": {},
   "outputs": [],
   "source": [
    "# Efetuo uma busca por nome e avaliações, mais adiante uma função para 'limpar' os dados\n",
    "nomes = []\n",
    "avaliacoes = []\n",
    "\n",
    "count = 0\n",
    "while count < len(dados):\n",
    "    # Se a linha conter 'title' essa linha será adicionada a minha lista nomes\n",
    "    if(dados[count].count('title') == 1):\n",
    "        nomes.append(dados[count])\n",
    "    # Se a linha conter 'tomatoScore' essa linha será adicionada a minha lista avaliacoes\n",
    "    elif(dados[count].count('tomatoScore') == 1):\n",
    "        avaliacoes.append(dados[count])\n",
    "    # Se a linha conter 'NA' essa linha será adicionada a minha lista avaliações, pois as avaliações podem ser números ou strings\n",
    "    elif(dados[count].count('NA') == 1):\n",
    "        avaliacoes.append(dados[count])\n",
    "    count+=1\n"
   ]
  },
  {
   "cell_type": "code",
   "execution_count": 284,
   "metadata": {},
   "outputs": [
    {
     "data": {
      "text/plain": [
       "['[{\"title\":\"The Flash: Season 4\"',\n",
       " '{\"title\":\"DC\\'s Legends of Tomorrow: Season 3\"',\n",
       " '{\"title\":\"At Home With Amy Sedaris: Season 1\"',\n",
       " '{\"title\":\"This Is Us: Season 2\"',\n",
       " '{\"title\":\"Loudermilk: Season 1\"',\n",
       " '{\"title\":\"Marvel\\'s Runaways: Season 1\"',\n",
       " '{\"title\":\"The Long Road Home: Miniseries\"',\n",
       " '{\"title\":\"Damnation: Season 1\"',\n",
       " '{\"title\":\"Hit the Road: Season 1\"',\n",
       " '{\"title\":\"Bull: Season 2\"',\n",
       " '{\"title\":\"NCIS: Season 15\"',\n",
       " '{\"title\":\"NCIS: New Orleans: Season 4\"',\n",
       " '{\"title\":\"The Mick: Season 2\"',\n",
       " '{\"title\":\"Fresh Off the Boat: Season 4\"',\n",
       " '{\"title\":\"Chicago Med: Season 3\"',\n",
       " '{\"title\":\"Teachers: Season 2\"',\n",
       " '{\"title\":\"Lethal Weapon: Season 2\"',\n",
       " '{\"title\":\"The Middle: Season 9\"',\n",
       " '{\"title\":\"Leah Remini: Scientology and the Aftermath: Season 2\"',\n",
       " '{\"title\":\"Major Crimes: Season 6\"',\n",
       " '{\"title\":\"Brooklyn Nine-Nine: Season 5\"',\n",
       " '{\"title\":\"If Loving You Is Wrong: Season 3\"']"
      ]
     },
     "execution_count": 284,
     "metadata": {},
     "output_type": "execute_result"
    }
   ],
   "source": [
    "nomes"
   ]
  },
  {
   "cell_type": "code",
   "execution_count": 285,
   "metadata": {},
   "outputs": [
    {
     "data": {
      "text/plain": [
       "['\"tomatoScore\":100',\n",
       " '\"tomatoScore\":100',\n",
       " '\"tomatoScore\":100',\n",
       " '\"tomatoScore\":94',\n",
       " '\"tomatoScore\":91',\n",
       " '\"tomatoScore\":79',\n",
       " '\"tomatoScore\":82',\n",
       " '\"tomatoScore\":56',\n",
       " '\"tomatoScore\":0',\n",
       " '\"tomatoIcon\":\"NA\"',\n",
       " '\"tomatoIcon\":\"NA\"',\n",
       " '\"tomatoIcon\":\"NA\"',\n",
       " '\"tomatoIcon\":\"NA\"',\n",
       " '\"tomatoIcon\":\"NA\"',\n",
       " '\"tomatoIcon\":\"NA\"',\n",
       " '\"tomatoIcon\":\"NA\"',\n",
       " '\"tomatoIcon\":\"NA\"',\n",
       " '\"tomatoIcon\":\"NA\"',\n",
       " '\"tomatoIcon\":\"NA\"',\n",
       " '\"tomatoIcon\":\"NA\"',\n",
       " '\"tomatoIcon\":\"NA\"',\n",
       " '\"tomatoIcon\":\"NA\"']"
      ]
     },
     "execution_count": 285,
     "metadata": {},
     "output_type": "execute_result"
    }
   ],
   "source": [
    "avaliacoes"
   ]
  },
  {
   "cell_type": "code",
   "execution_count": 295,
   "metadata": {},
   "outputs": [],
   "source": [
    "# Cria-se duas novas listas, para armazenar os dados limpos\n",
    "nome_lst = []\n",
    "avaliacoes_lst = []\n",
    "count = 0\n",
    "# Loop para auxiliar a percorrer as listas nomes e avaliacoes\n",
    "while count < 22:\n",
    "    # Pegando os nomes\n",
    "    nome_texto = re.findall(r'\\w+', nomes[count])\n",
    "    # Deleto o nome 'title'\n",
    "    del nome_texto[0]\n",
    "    position = 0\n",
    "    nome_str = ''\n",
    "    # Loop para auxiliar a percorrer a lista nome_texto\n",
    "    while position < len(nome_texto):\n",
    "        # nome_str irá pegar elemento por elemento na lista texto e efetuar uma concatenação\n",
    "        nome_str = nome_str + ' ' + nome_texto[position]\n",
    "        position+=1\n",
    "    # o nome_str é adicionado a lista nome_lst, porém antes de ser adicionado é efetuado um slice para nome_str começar sem ' '\n",
    "    nome_lst.append(nome_str[1:])\n",
    "    # Pegando as avaliações\n",
    "    avaliacao_texto = re.findall(r'\\w+', avaliacoes[count])\n",
    "    # Deletando o nome 'tomatoAlgumaCoisa'\n",
    "    del avaliacao_texto[0]\n",
    "    position = 0\n",
    "    avaliacao_str = ''\n",
    "     # Loop para auxiliar a percorrer a lista avaliacao_texto\n",
    "    while position < len(avaliacao_texto):\n",
    "        # avaliacao_str irá pegar elemento por elemento na lista texto e efetuar uma concatenação\n",
    "        avaliacao_str = avaliacao_str + ' ' + avaliacao_texto[position]\n",
    "        position+=1\n",
    "    # Se avaliação_str não conter 'NA', avaliação_str é convertindo para int e adicionado a lista avaliacoes_lst\n",
    "    if avaliacao_str.count('NA') == 0:\n",
    "        avaliacoes_lst.append(int(avaliacao_str))\n",
    "    else:\n",
    "        # Se conter 'NA', avaliação_str recebe o valor 'Sem Avaliação' e é adicionada a lista avaliacoes_lst\n",
    "        avaliacoes_lst.append('Sem Avaliação')\n",
    "    count+=1"
   ]
  },
  {
   "cell_type": "code",
   "execution_count": 296,
   "metadata": {},
   "outputs": [
    {
     "data": {
      "text/plain": [
       "['The Flash Season 4',\n",
       " 'DC s Legends of Tomorrow Season 3',\n",
       " 'At Home With Amy Sedaris Season 1',\n",
       " 'This Is Us Season 2',\n",
       " 'Loudermilk Season 1',\n",
       " 'Marvel s Runaways Season 1',\n",
       " 'The Long Road Home Miniseries',\n",
       " 'Damnation Season 1',\n",
       " 'Hit the Road Season 1',\n",
       " 'Bull Season 2',\n",
       " 'NCIS Season 15',\n",
       " 'NCIS New Orleans Season 4',\n",
       " 'The Mick Season 2',\n",
       " 'Fresh Off the Boat Season 4',\n",
       " 'Chicago Med Season 3',\n",
       " 'Teachers Season 2',\n",
       " 'Lethal Weapon Season 2',\n",
       " 'The Middle Season 9',\n",
       " 'Leah Remini Scientology and the Aftermath Season 2',\n",
       " 'Major Crimes Season 6',\n",
       " 'Brooklyn Nine Nine Season 5',\n",
       " 'If Loving You Is Wrong Season 3']"
      ]
     },
     "execution_count": 296,
     "metadata": {},
     "output_type": "execute_result"
    }
   ],
   "source": [
    "nome_lst"
   ]
  },
  {
   "cell_type": "code",
   "execution_count": 297,
   "metadata": {},
   "outputs": [
    {
     "data": {
      "text/plain": [
       "[100,\n",
       " 100,\n",
       " 100,\n",
       " 94,\n",
       " 91,\n",
       " 79,\n",
       " 82,\n",
       " 56,\n",
       " 0,\n",
       " 'Sem Avaliação',\n",
       " 'Sem Avaliação',\n",
       " 'Sem Avaliação',\n",
       " 'Sem Avaliação',\n",
       " 'Sem Avaliação',\n",
       " 'Sem Avaliação',\n",
       " 'Sem Avaliação',\n",
       " 'Sem Avaliação',\n",
       " 'Sem Avaliação',\n",
       " 'Sem Avaliação',\n",
       " 'Sem Avaliação',\n",
       " 'Sem Avaliação',\n",
       " 'Sem Avaliação']"
      ]
     },
     "execution_count": 297,
     "metadata": {},
     "output_type": "execute_result"
    }
   ],
   "source": [
    "avaliacoes_lst"
   ]
  },
  {
   "cell_type": "code",
   "execution_count": 300,
   "metadata": {},
   "outputs": [],
   "source": [
    "# Crio um dicionário para nomes e avaliações\n",
    "tomatos = {\n",
    "    'nome' : nome_lst,\n",
    "    'avaliação' : avaliacoes_lst\n",
    "}"
   ]
  },
  {
   "cell_type": "code",
   "execution_count": 299,
   "metadata": {
    "scrolled": true
   },
   "outputs": [
    {
     "data": {
      "text/html": [
       "<div>\n",
       "<style>\n",
       "    .dataframe thead tr:only-child th {\n",
       "        text-align: right;\n",
       "    }\n",
       "\n",
       "    .dataframe thead th {\n",
       "        text-align: left;\n",
       "    }\n",
       "\n",
       "    .dataframe tbody tr th {\n",
       "        vertical-align: top;\n",
       "    }\n",
       "</style>\n",
       "<table border=\"1\" class=\"dataframe\">\n",
       "  <thead>\n",
       "    <tr style=\"text-align: right;\">\n",
       "      <th></th>\n",
       "      <th>avaliação</th>\n",
       "    </tr>\n",
       "    <tr>\n",
       "      <th>nome</th>\n",
       "      <th></th>\n",
       "    </tr>\n",
       "  </thead>\n",
       "  <tbody>\n",
       "    <tr>\n",
       "      <th>The Flash Season 4</th>\n",
       "      <td>100</td>\n",
       "    </tr>\n",
       "    <tr>\n",
       "      <th>DC s Legends of Tomorrow Season 3</th>\n",
       "      <td>100</td>\n",
       "    </tr>\n",
       "    <tr>\n",
       "      <th>At Home With Amy Sedaris Season 1</th>\n",
       "      <td>100</td>\n",
       "    </tr>\n",
       "    <tr>\n",
       "      <th>This Is Us Season 2</th>\n",
       "      <td>94</td>\n",
       "    </tr>\n",
       "    <tr>\n",
       "      <th>Loudermilk Season 1</th>\n",
       "      <td>91</td>\n",
       "    </tr>\n",
       "    <tr>\n",
       "      <th>Marvel s Runaways Season 1</th>\n",
       "      <td>79</td>\n",
       "    </tr>\n",
       "    <tr>\n",
       "      <th>The Long Road Home Miniseries</th>\n",
       "      <td>82</td>\n",
       "    </tr>\n",
       "    <tr>\n",
       "      <th>Damnation Season 1</th>\n",
       "      <td>56</td>\n",
       "    </tr>\n",
       "    <tr>\n",
       "      <th>Hit the Road Season 1</th>\n",
       "      <td>0</td>\n",
       "    </tr>\n",
       "    <tr>\n",
       "      <th>Bull Season 2</th>\n",
       "      <td>Sem Avaliação</td>\n",
       "    </tr>\n",
       "    <tr>\n",
       "      <th>NCIS Season 15</th>\n",
       "      <td>Sem Avaliação</td>\n",
       "    </tr>\n",
       "    <tr>\n",
       "      <th>NCIS New Orleans Season 4</th>\n",
       "      <td>Sem Avaliação</td>\n",
       "    </tr>\n",
       "    <tr>\n",
       "      <th>The Mick Season 2</th>\n",
       "      <td>Sem Avaliação</td>\n",
       "    </tr>\n",
       "    <tr>\n",
       "      <th>Fresh Off the Boat Season 4</th>\n",
       "      <td>Sem Avaliação</td>\n",
       "    </tr>\n",
       "    <tr>\n",
       "      <th>Chicago Med Season 3</th>\n",
       "      <td>Sem Avaliação</td>\n",
       "    </tr>\n",
       "    <tr>\n",
       "      <th>Teachers Season 2</th>\n",
       "      <td>Sem Avaliação</td>\n",
       "    </tr>\n",
       "    <tr>\n",
       "      <th>Lethal Weapon Season 2</th>\n",
       "      <td>Sem Avaliação</td>\n",
       "    </tr>\n",
       "    <tr>\n",
       "      <th>The Middle Season 9</th>\n",
       "      <td>Sem Avaliação</td>\n",
       "    </tr>\n",
       "    <tr>\n",
       "      <th>Leah Remini Scientology and the Aftermath Season 2</th>\n",
       "      <td>Sem Avaliação</td>\n",
       "    </tr>\n",
       "    <tr>\n",
       "      <th>Major Crimes Season 6</th>\n",
       "      <td>Sem Avaliação</td>\n",
       "    </tr>\n",
       "    <tr>\n",
       "      <th>Brooklyn Nine Nine Season 5</th>\n",
       "      <td>Sem Avaliação</td>\n",
       "    </tr>\n",
       "    <tr>\n",
       "      <th>If Loving You Is Wrong Season 3</th>\n",
       "      <td>Sem Avaliação</td>\n",
       "    </tr>\n",
       "  </tbody>\n",
       "</table>\n",
       "</div>"
      ],
      "text/plain": [
       "                                                        avaliação\n",
       "nome                                                             \n",
       "The Flash Season 4                                            100\n",
       "DC s Legends of Tomorrow Season 3                             100\n",
       "At Home With Amy Sedaris Season 1                             100\n",
       "This Is Us Season 2                                            94\n",
       "Loudermilk Season 1                                            91\n",
       "Marvel s Runaways Season 1                                     79\n",
       "The Long Road Home Miniseries                                  82\n",
       "Damnation Season 1                                             56\n",
       "Hit the Road Season 1                                           0\n",
       "Bull Season 2                                       Sem Avaliação\n",
       "NCIS Season 15                                      Sem Avaliação\n",
       "NCIS New Orleans Season 4                           Sem Avaliação\n",
       "The Mick Season 2                                   Sem Avaliação\n",
       "Fresh Off the Boat Season 4                         Sem Avaliação\n",
       "Chicago Med Season 3                                Sem Avaliação\n",
       "Teachers Season 2                                   Sem Avaliação\n",
       "Lethal Weapon Season 2                              Sem Avaliação\n",
       "The Middle Season 9                                 Sem Avaliação\n",
       "Leah Remini Scientology and the Aftermath Season 2  Sem Avaliação\n",
       "Major Crimes Season 6                               Sem Avaliação\n",
       "Brooklyn Nine Nine Season 5                         Sem Avaliação\n",
       "If Loving You Is Wrong Season 3                     Sem Avaliação"
      ]
     },
     "execution_count": 299,
     "metadata": {},
     "output_type": "execute_result"
    }
   ],
   "source": [
    "import pandas as pd\n",
    "df = pd.DataFrame(tomatos, columns=['nome', 'avaliação'])\n",
    "df.index = df['nome']\n",
    "del df['nome']\n",
    "df"
   ]
  },
  {
   "cell_type": "code",
   "execution_count": 291,
   "metadata": {
    "collapsed": true
   },
   "outputs": [
    {
     "data": {
      "text/html": [
       "<div>\n",
       "<style>\n",
       "    .dataframe thead tr:only-child th {\n",
       "        text-align: right;\n",
       "    }\n",
       "\n",
       "    .dataframe thead th {\n",
       "        text-align: left;\n",
       "    }\n",
       "\n",
       "    .dataframe tbody tr th {\n",
       "        vertical-align: top;\n",
       "    }\n",
       "</style>\n",
       "<table border=\"1\" class=\"dataframe\">\n",
       "  <thead>\n",
       "    <tr style=\"text-align: right;\">\n",
       "      <th></th>\n",
       "      <th>avaliação</th>\n",
       "    </tr>\n",
       "  </thead>\n",
       "  <tbody>\n",
       "    <tr>\n",
       "      <th>count</th>\n",
       "      <td>22</td>\n",
       "    </tr>\n",
       "    <tr>\n",
       "      <th>unique</th>\n",
       "      <td>8</td>\n",
       "    </tr>\n",
       "    <tr>\n",
       "      <th>top</th>\n",
       "      <td>Sem Avaliação</td>\n",
       "    </tr>\n",
       "    <tr>\n",
       "      <th>freq</th>\n",
       "      <td>13</td>\n",
       "    </tr>\n",
       "  </tbody>\n",
       "</table>\n",
       "</div>"
      ],
      "text/plain": [
       "            avaliação\n",
       "count              22\n",
       "unique              8\n",
       "top     Sem Avaliação\n",
       "freq               13"
      ]
     },
     "execution_count": 291,
     "metadata": {},
     "output_type": "execute_result"
    }
   ],
   "source": [
    "df.describe()"
   ]
  },
  {
   "cell_type": "code",
   "execution_count": 306,
   "metadata": {},
   "outputs": [
    {
     "data": {
      "text/plain": [
       "[100,\n",
       " 100,\n",
       " 100,\n",
       " 94,\n",
       " 91,\n",
       " 79,\n",
       " 82,\n",
       " 56,\n",
       " 0,\n",
       " 'Sem Avaliação',\n",
       " 'Sem Avaliação',\n",
       " 'Sem Avaliação',\n",
       " 'Sem Avaliação',\n",
       " 'Sem Avaliação',\n",
       " 'Sem Avaliação',\n",
       " 'Sem Avaliação',\n",
       " 'Sem Avaliação',\n",
       " 'Sem Avaliação',\n",
       " 'Sem Avaliação',\n",
       " 'Sem Avaliação',\n",
       " 'Sem Avaliação',\n",
       " 'Sem Avaliação']"
      ]
     },
     "execution_count": 306,
     "metadata": {},
     "output_type": "execute_result"
    }
   ],
   "source": [
    "tomatos['avaliação']"
   ]
  },
  {
   "cell_type": "code",
   "execution_count": null,
   "metadata": {
    "collapsed": true
   },
   "outputs": [],
   "source": []
  }
 ],
 "metadata": {
  "kernelspec": {
   "display_name": "Python 3",
   "language": "python",
   "name": "python3"
  },
  "language_info": {
   "codemirror_mode": {
    "name": "ipython",
    "version": 3
   },
   "file_extension": ".py",
   "mimetype": "text/x-python",
   "name": "python",
   "nbconvert_exporter": "python",
   "pygments_lexer": "ipython3",
   "version": "3.6.3"
  }
 },
 "nbformat": 4,
 "nbformat_minor": 2
}
