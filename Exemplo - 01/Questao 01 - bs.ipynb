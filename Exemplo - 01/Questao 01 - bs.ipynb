{
 "cells": [
  {
   "cell_type": "markdown",
   "metadata": {},
   "source": [
    "## Questão 01 - Riyadh Levi"
   ]
  },
  {
   "cell_type": "code",
   "execution_count": 1,
   "metadata": {
    "collapsed": true
   },
   "outputs": [],
   "source": [
    "# Importando pacote request externo ao Python\n",
    "import requests\n",
    "from bs4 import BeautifulSoup"
   ]
  },
  {
   "cell_type": "code",
   "execution_count": 2,
   "metadata": {
    "collapsed": true
   },
   "outputs": [],
   "source": [
    "# Definindo uma função para efetuar o download da página\n",
    "def download(url, num_retries=2):\n",
    "    print('Downloading: ', url)\n",
    "    page = None\n",
    "    try:\n",
    "        response = requests.get(url)\n",
    "        page = response.text\n",
    "        if response.status_code >= 400:\n",
    "            print('Download error:', response.text)\n",
    "            if num_retries and 500 <= response.status_code < 600:\n",
    "                return download(url, num_retries - 1)\n",
    "    except requests.exceptions.RequestExceptions as e:\n",
    "        print('Download error: ', e.reason)\n",
    "    return page"
   ]
  },
  {
   "cell_type": "code",
   "execution_count": 3,
   "metadata": {},
   "outputs": [
    {
     "name": "stdout",
     "output_type": "stream",
     "text": [
      "Downloading:  https://www.rottentomatoes.com/browse/tv-list-1\n"
     ]
    }
   ],
   "source": [
    "#efetuando o download do site e iniciando a 'sopa'\n",
    "url = 'https://www.rottentomatoes.com/browse/tv-list-1'\n",
    "html = download(url)\n",
    "soup = BeautifulSoup(html, 'html.parser')"
   ]
  },
  {
   "cell_type": "code",
   "execution_count": 16,
   "metadata": {
    "collapsed": true
   },
   "outputs": [],
   "source": [
    "# Capturando a tag tabela dentro do site e armazenando os dados em uma variável chamada t\n",
    "t = soup.find_all('table')"
   ]
  },
  {
   "cell_type": "code",
   "execution_count": 23,
   "metadata": {},
   "outputs": [
    {
     "data": {
      "text/plain": [
       "2"
      ]
     },
     "execution_count": 23,
     "metadata": {},
     "output_type": "execute_result"
    }
   ],
   "source": [
    "# Imprimindo a variável\n",
    "len(t)"
   ]
  },
  {
   "cell_type": "code",
   "execution_count": 24,
   "metadata": {
    "collapsed": true
   },
   "outputs": [],
   "source": [
    "t_01 = t[0]\n",
    "t_02 = t[1]"
   ]
  },
  {
   "cell_type": "code",
   "execution_count": 25,
   "metadata": {},
   "outputs": [
    {
     "data": {
      "text/plain": [
       "['\\n', <tr class=\"tv_show_tr tvTopListTitle\">\n",
       " <td class=\"left_col\">\n",
       " <a href=\"https://www.rottentomatoes.com/tv/flash/s04\">\n",
       " <span class=\"icon tiny fresh\"></span>\n",
       " <span class=\"tMeterScore\">100%</span>\n",
       " </a>\n",
       " </td>\n",
       " <td class=\"middle_col\">\n",
       " <a href=\"https://www.rottentomatoes.com/tv/flash/s04\">The Flash</a>\n",
       " </td>\n",
       " </tr>, <tr class=\"tv_show_tr tvTopListTitle\">\n",
       " <td class=\"left_col\">\n",
       " <a href=\"https://www.rottentomatoes.com/tv/dc_s_legends_of_tomorrow/s03\">\n",
       " <span class=\"icon tiny fresh\"></span>\n",
       " <span class=\"tMeterScore\">100%</span>\n",
       " </a>\n",
       " </td>\n",
       " <td class=\"middle_col\">\n",
       " <a href=\"https://www.rottentomatoes.com/tv/dc_s_legends_of_tomorrow/s03\">DC's Legends of Tomorrow</a>\n",
       " </td>\n",
       " </tr>, <tr class=\"tv_show_tr tvTopListTitle\">\n",
       " <td class=\"left_col\">\n",
       " <a href=\"https://www.rottentomatoes.com/tv/at_home_with_amy_sedaris/s01\">\n",
       " <span class=\"icon tiny fresh\"></span>\n",
       " <span class=\"tMeterScore\">100%</span>\n",
       " </a>\n",
       " </td>\n",
       " <td class=\"middle_col\">\n",
       " <a href=\"https://www.rottentomatoes.com/tv/at_home_with_amy_sedaris/s01\">At Home With Amy Sedaris</a>\n",
       " </td>\n",
       " </tr>, <tr class=\"tv_show_tr tvTopListTitle\">\n",
       " <td class=\"left_col\">\n",
       " <a href=\"https://www.rottentomatoes.com/tv/this_is_us/s02\">\n",
       " <span class=\"icon tiny fresh\"></span>\n",
       " <span class=\"tMeterScore\">94%</span>\n",
       " </a>\n",
       " </td>\n",
       " <td class=\"middle_col\">\n",
       " <a href=\"https://www.rottentomatoes.com/tv/this_is_us/s02\">This Is Us</a>\n",
       " </td>\n",
       " </tr>, <tr class=\"tv_show_tr tvTopListTitle\">\n",
       " <td class=\"left_col\">\n",
       " <a href=\"https://www.rottentomatoes.com/tv/loudermilk/s01\">\n",
       " <span class=\"icon tiny fresh\"></span>\n",
       " <span class=\"tMeterScore\">91%</span>\n",
       " </a>\n",
       " </td>\n",
       " <td class=\"middle_col\">\n",
       " <a href=\"https://www.rottentomatoes.com/tv/loudermilk/s01\">Loudermilk</a>\n",
       " </td>\n",
       " </tr>, <tr class=\"tv_show_tr tvTopListTitle\">\n",
       " <td class=\"left_col\">\n",
       " <a href=\"https://www.rottentomatoes.com/tv/marvel_s_runaways/s01\">\n",
       " <span class=\"icon tiny fresh\"></span>\n",
       " <span class=\"tMeterScore\">79%</span>\n",
       " </a>\n",
       " </td>\n",
       " <td class=\"middle_col\">\n",
       " <a href=\"https://www.rottentomatoes.com/tv/marvel_s_runaways/s01\">Marvel's Runaways</a>\n",
       " </td>\n",
       " </tr>, <tr class=\"tv_show_tr tvTopListTitle\">\n",
       " <td class=\"left_col\">\n",
       " <a href=\"https://www.rottentomatoes.com/tv/the_long_road_home/s01\">\n",
       " <span class=\"icon tiny fresh\"></span>\n",
       " <span class=\"tMeterScore\">82%</span>\n",
       " </a>\n",
       " </td>\n",
       " <td class=\"middle_col\">\n",
       " <a href=\"https://www.rottentomatoes.com/tv/the_long_road_home/s01\">The Long Road Home</a>\n",
       " </td>\n",
       " </tr>, <tr class=\"tv_show_tr tvTopListTitle\">\n",
       " <td class=\"left_col\">\n",
       " <a href=\"https://www.rottentomatoes.com/tv/damnation/s01\">\n",
       " <span class=\"icon tiny rotten\"></span>\n",
       " <span class=\"tMeterScore\">56%</span>\n",
       " </a>\n",
       " </td>\n",
       " <td class=\"middle_col\">\n",
       " <a href=\"https://www.rottentomatoes.com/tv/damnation/s01\">Damnation</a>\n",
       " </td>\n",
       " </tr>, <tr class=\"tv_show_tr tvTopListTitle\">\n",
       " <td class=\"left_col\">\n",
       " <a href=\"https://www.rottentomatoes.com/tv/hit_the_road/s01\">\n",
       " <span class=\"icon tiny rotten\"></span>\n",
       " <span class=\"tMeterScore\">0%</span>\n",
       " </a>\n",
       " </td>\n",
       " <td class=\"middle_col\">\n",
       " <a href=\"https://www.rottentomatoes.com/tv/hit_the_road/s01\">Hit the Road</a>\n",
       " </td>\n",
       " </tr>, <tr class=\"tv_show_tr tvTopListTitle\">\n",
       " <td class=\"left_col\">\n",
       " <a href=\"https://www.rottentomatoes.com/tv/bull/s02\">\n",
       " <span class=\"tMeterIcon tiny noRating\">No Score Yet</span>\n",
       " </a>\n",
       " </td>\n",
       " <td class=\"middle_col\">\n",
       " <a href=\"https://www.rottentomatoes.com/tv/bull/s02\">Bull</a>\n",
       " </td>\n",
       " </tr>, <tr class=\"tv_show_tr tvTopListTitle\">\n",
       " <td class=\"left_col\">\n",
       " <a href=\"https://www.rottentomatoes.com/tv/ncis/s15\">\n",
       " <span class=\"tMeterIcon tiny noRating\">No Score Yet</span>\n",
       " </a>\n",
       " </td>\n",
       " <td class=\"middle_col\">\n",
       " <a href=\"https://www.rottentomatoes.com/tv/ncis/s15\">NCIS</a>\n",
       " </td>\n",
       " </tr>, <tr class=\"tv_show_tr tvTopListTitle\">\n",
       " <td class=\"left_col\">\n",
       " <a href=\"https://www.rottentomatoes.com/tv/ncis_new_orleans/s04\">\n",
       " <span class=\"tMeterIcon tiny noRating\">No Score Yet</span>\n",
       " </a>\n",
       " </td>\n",
       " <td class=\"middle_col\">\n",
       " <a href=\"https://www.rottentomatoes.com/tv/ncis_new_orleans/s04\">NCIS: New Orleans</a>\n",
       " </td>\n",
       " </tr>]"
      ]
     },
     "execution_count": 25,
     "metadata": {},
     "output_type": "execute_result"
    }
   ],
   "source": [
    "# Imprimindo o conteúdo da variável\n",
    "t_01.contents"
   ]
  },
  {
   "cell_type": "code",
   "execution_count": 29,
   "metadata": {},
   "outputs": [
    {
     "data": {
      "text/plain": [
       "12"
      ]
     },
     "execution_count": 29,
     "metadata": {},
     "output_type": "execute_result"
    }
   ],
   "source": [
    "# Capturando o número de linhas da tabela (Número de elementos)\n",
    "numFilmes = (len(t[0].contents)-1)\n",
    "numFilmes"
   ]
  },
  {
   "cell_type": "code",
   "execution_count": 32,
   "metadata": {},
   "outputs": [
    {
     "data": {
      "text/plain": [
       "\"\\n\\n\\n\\n62%\\n\\n\\n\\nMarvel's The Punisher\\n\\n\""
      ]
     },
     "execution_count": 32,
     "metadata": {},
     "output_type": "execute_result"
    }
   ],
   "source": [
    "# Ao pegar o texto dentro do conteúdo da tabela vem também caracteres que não são interesantes, é preciso 'varrer'\n",
    "t[1].contents[1].get_text()"
   ]
  },
  {
   "cell_type": "code",
   "execution_count": 35,
   "metadata": {
    "collapsed": true
   },
   "outputs": [],
   "source": [
    "# Cria uma lista vazia, para cada filme dentro do conteúdo da tabela adiciona o filme a lista, sendo que os caracteres não interessantes serão varridos\n",
    "lista_filmes = []\n",
    "for filme in t[1].contents:\n",
    "    if filme != '\\n':\n",
    "        # O primeiro .replace substitui os '\\n' presentes no conteúdo por ''\n",
    "        # O segundo  .replace substitui os '%' presentes no conteúdo por '% - '\n",
    "        # O terceiro .replace substitui os 'No Score Yet' presentes no conteúdo por 'SA' (Sem Avaliação)\n",
    "        lista_filmes.append(filme.get_text().replace('\\n','').replace('%', '% - ').replace('No Score Yet', 'SA - '))"
   ]
  },
  {
   "cell_type": "code",
   "execution_count": 36,
   "metadata": {},
   "outputs": [
    {
     "data": {
      "text/plain": [
       "[\"62% - Marvel's The Punisher\",\n",
       " '96% - Mindhunter',\n",
       " '94% - Stranger Things',\n",
       " '98% - Alias Grace',\n",
       " '100% - The Good Place',\n",
       " '94% - The Sinner',\n",
       " '75% - The Walking Dead',\n",
       " '93% - Mr. Robot',\n",
       " '75% - Future Man',\n",
       " '83% - Star Trek: Discovery',\n",
       " '100% - Lucifer',\n",
       " 'SA - American Vandal']"
      ]
     },
     "execution_count": 36,
     "metadata": {},
     "output_type": "execute_result"
    }
   ],
   "source": [
    "# Imprime os filmes dentro da lista, já tratados\n",
    "lista_filmes"
   ]
  },
  {
   "cell_type": "code",
   "execution_count": 37,
   "metadata": {
    "collapsed": true
   },
   "outputs": [],
   "source": [
    "# Cria uma lista vazia (será armazenado dicionários dentro dela)\n",
    "list_dict = []"
   ]
  },
  {
   "cell_type": "code",
   "execution_count": 38,
   "metadata": {
    "collapsed": true
   },
   "outputs": [],
   "source": [
    "# Para cada filme na lista de filmes, é criado um dicionário com o Nome: nome, Avaliação: avaliação e esse dicionário é adicionado a lista list_dict\n",
    "for filme in lista_filmes:\n",
    "    list_dict.append({'Nome' : filme.split('-')[1], 'Avaliação' : filme.split('-')[0]})\n"
   ]
  },
  {
   "cell_type": "code",
   "execution_count": 39,
   "metadata": {},
   "outputs": [
    {
     "data": {
      "text/plain": [
       "[{'Avaliação': '62% ', 'Nome': \" Marvel's The Punisher\"},\n",
       " {'Avaliação': '96% ', 'Nome': ' Mindhunter'},\n",
       " {'Avaliação': '94% ', 'Nome': ' Stranger Things'},\n",
       " {'Avaliação': '98% ', 'Nome': ' Alias Grace'},\n",
       " {'Avaliação': '100% ', 'Nome': ' The Good Place'},\n",
       " {'Avaliação': '94% ', 'Nome': ' The Sinner'},\n",
       " {'Avaliação': '75% ', 'Nome': ' The Walking Dead'},\n",
       " {'Avaliação': '93% ', 'Nome': ' Mr. Robot'},\n",
       " {'Avaliação': '75% ', 'Nome': ' Future Man'},\n",
       " {'Avaliação': '83% ', 'Nome': ' Star Trek: Discovery'},\n",
       " {'Avaliação': '100% ', 'Nome': ' Lucifer'},\n",
       " {'Avaliação': 'SA ', 'Nome': ' American Vandal'}]"
      ]
     },
     "execution_count": 39,
     "metadata": {},
     "output_type": "execute_result"
    }
   ],
   "source": [
    "# Imprime lista de dicionários\n",
    "list_dict"
   ]
  },
  {
   "cell_type": "code",
   "execution_count": 40,
   "metadata": {
    "collapsed": true
   },
   "outputs": [],
   "source": [
    "# Importa pacote externo ao Python\n",
    "import pandas as pd"
   ]
  },
  {
   "cell_type": "code",
   "execution_count": 41,
   "metadata": {},
   "outputs": [
    {
     "data": {
      "text/html": [
       "<div>\n",
       "<style>\n",
       "    .dataframe thead tr:only-child th {\n",
       "        text-align: right;\n",
       "    }\n",
       "\n",
       "    .dataframe thead th {\n",
       "        text-align: left;\n",
       "    }\n",
       "\n",
       "    .dataframe tbody tr th {\n",
       "        vertical-align: top;\n",
       "    }\n",
       "</style>\n",
       "<table border=\"1\" class=\"dataframe\">\n",
       "  <thead>\n",
       "    <tr style=\"text-align: right;\">\n",
       "      <th></th>\n",
       "      <th>Nome</th>\n",
       "      <th>Avaliação</th>\n",
       "    </tr>\n",
       "  </thead>\n",
       "  <tbody>\n",
       "    <tr>\n",
       "      <th>0</th>\n",
       "      <td>Marvel's The Punisher</td>\n",
       "      <td>62%</td>\n",
       "    </tr>\n",
       "    <tr>\n",
       "      <th>1</th>\n",
       "      <td>Mindhunter</td>\n",
       "      <td>96%</td>\n",
       "    </tr>\n",
       "    <tr>\n",
       "      <th>2</th>\n",
       "      <td>Stranger Things</td>\n",
       "      <td>94%</td>\n",
       "    </tr>\n",
       "    <tr>\n",
       "      <th>3</th>\n",
       "      <td>Alias Grace</td>\n",
       "      <td>98%</td>\n",
       "    </tr>\n",
       "    <tr>\n",
       "      <th>4</th>\n",
       "      <td>The Good Place</td>\n",
       "      <td>100%</td>\n",
       "    </tr>\n",
       "    <tr>\n",
       "      <th>5</th>\n",
       "      <td>The Sinner</td>\n",
       "      <td>94%</td>\n",
       "    </tr>\n",
       "    <tr>\n",
       "      <th>6</th>\n",
       "      <td>The Walking Dead</td>\n",
       "      <td>75%</td>\n",
       "    </tr>\n",
       "    <tr>\n",
       "      <th>7</th>\n",
       "      <td>Mr. Robot</td>\n",
       "      <td>93%</td>\n",
       "    </tr>\n",
       "    <tr>\n",
       "      <th>8</th>\n",
       "      <td>Future Man</td>\n",
       "      <td>75%</td>\n",
       "    </tr>\n",
       "    <tr>\n",
       "      <th>9</th>\n",
       "      <td>Star Trek: Discovery</td>\n",
       "      <td>83%</td>\n",
       "    </tr>\n",
       "    <tr>\n",
       "      <th>10</th>\n",
       "      <td>Lucifer</td>\n",
       "      <td>100%</td>\n",
       "    </tr>\n",
       "    <tr>\n",
       "      <th>11</th>\n",
       "      <td>American Vandal</td>\n",
       "      <td>SA</td>\n",
       "    </tr>\n",
       "  </tbody>\n",
       "</table>\n",
       "</div>"
      ],
      "text/plain": [
       "                      Nome Avaliação\n",
       "0    Marvel's The Punisher      62% \n",
       "1               Mindhunter      96% \n",
       "2          Stranger Things      94% \n",
       "3              Alias Grace      98% \n",
       "4           The Good Place     100% \n",
       "5               The Sinner      94% \n",
       "6         The Walking Dead      75% \n",
       "7                Mr. Robot      93% \n",
       "8               Future Man      75% \n",
       "9     Star Trek: Discovery      83% \n",
       "10                 Lucifer     100% \n",
       "11         American Vandal       SA "
      ]
     },
     "execution_count": 41,
     "metadata": {},
     "output_type": "execute_result"
    }
   ],
   "source": [
    "# Cria uma tabela recebendo a lista de dicionários como parâmetro e a ordem das colunas passa a ser 'Nome' e 'Avaliação'\n",
    "pd.DataFrame(list_dict).filter(items=['Nome','Avaliação'])"
   ]
  },
  {
   "cell_type": "code",
   "execution_count": null,
   "metadata": {
    "collapsed": true
   },
   "outputs": [],
   "source": []
  }
 ],
 "metadata": {
  "kernelspec": {
   "display_name": "Python 3",
   "language": "python",
   "name": "python3"
  },
  "language_info": {
   "codemirror_mode": {
    "name": "ipython",
    "version": 3
   },
   "file_extension": ".py",
   "mimetype": "text/x-python",
   "name": "python",
   "nbconvert_exporter": "python",
   "pygments_lexer": "ipython3",
   "version": "3.6.3"
  }
 },
 "nbformat": 4,
 "nbformat_minor": 2
}
