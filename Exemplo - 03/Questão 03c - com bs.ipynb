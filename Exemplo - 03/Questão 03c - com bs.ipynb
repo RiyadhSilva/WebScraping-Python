{
 "cells": [
  {
   "cell_type": "markdown",
   "metadata": {},
   "source": [
    "## Questão 03 - Riyadh Levi"
   ]
  },
  {
   "cell_type": "code",
   "execution_count": 71,
   "metadata": {
    "collapsed": true
   },
   "outputs": [],
   "source": [
    "# Importando pacote request externo ao Python\n",
    "import requests\n",
    "import re"
   ]
  },
  {
   "cell_type": "code",
   "execution_count": 45,
   "metadata": {
    "collapsed": true
   },
   "outputs": [],
   "source": [
    "# Definindo uma função para efetuar o download da página\n",
    "def download(url, num_retries=2):\n",
    "    print('Downloading: ', url)\n",
    "    page = None\n",
    "    try:\n",
    "        response = requests.get(url)\n",
    "        page = response.text\n",
    "        if response.status_code >= 400:\n",
    "            print('Download error:', response.text)\n",
    "            if num_retries and 500 <= response.status_code < 600:\n",
    "                return download(url, num_retries - 1)\n",
    "    except requests.exceptions.RequestExceptions as e:\n",
    "        print('Download error: ', e.reason)\n",
    "    return page"
   ]
  },
  {
   "cell_type": "code",
   "execution_count": 46,
   "metadata": {},
   "outputs": [
    {
     "name": "stdout",
     "output_type": "stream",
     "text": [
      "Downloading:  https://www.climatempo.com.br/previsao-do-tempo/cidade/264/teresina-pi\n"
     ]
    }
   ],
   "source": [
    "# Importanto pacote externo ao Python, efetuando o download do site e iniciando a 'sopa'\n",
    "from bs4 import BeautifulSoup\n",
    "url = 'https://www.climatempo.com.br/previsao-do-tempo/cidade/264/teresina-pi'\n",
    "html = download(url)\n",
    "soup = BeautifulSoup(html, 'html.parser')"
   ]
  },
  {
   "cell_type": "code",
   "execution_count": 47,
   "metadata": {},
   "outputs": [
    {
     "name": "stdout",
     "output_type": "stream",
     "text": [
      "0\n",
      "            mm0%\n",
      "73\n",
      "            %37%\n",
      "E\n",
      "            8km/h\n",
      "05:26\n",
      "            h17:48h\n"
     ]
    }
   ],
   "source": [
    "for i in soup.find_all(class_='left text-center small-12 top5 normal font12 txt-black'):\n",
    "    print(i.get_text())"
   ]
  },
  {
   "cell_type": "code",
   "execution_count": 28,
   "metadata": {
    "collapsed": true
   },
   "outputs": [],
   "source": [
    "tempMax = soup.find(id='tempMax0').get_text()"
   ]
  },
  {
   "cell_type": "code",
   "execution_count": 29,
   "metadata": {
    "collapsed": true
   },
   "outputs": [],
   "source": [
    "tempMin = soup.find(id='tempMin0').get_text()"
   ]
  },
  {
   "cell_type": "code",
   "execution_count": 73,
   "metadata": {},
   "outputs": [
    {
     "data": {
      "text/plain": [
       "['13']"
      ]
     },
     "execution_count": 73,
     "metadata": {},
     "output_type": "execute_result"
    }
   ],
   "source": [
    "infoVento = soup.find(id='momento-vento').get_text()\n",
    "infoVento = re.findall('\\d+', infoVento)\n",
    "infoVento"
   ]
  },
  {
   "cell_type": "code",
   "execution_count": 74,
   "metadata": {},
   "outputs": [
    {
     "data": {
      "text/plain": [
       "['62']"
      ]
     },
     "execution_count": 74,
     "metadata": {},
     "output_type": "execute_result"
    }
   ],
   "source": [
    "infoUmidade = soup.find(id='momento-humidade').get_text()\n",
    "infoUmidade = re.findall('\\d+', infoUmidade)\n",
    "infoUmidade"
   ]
  },
  {
   "cell_type": "code",
   "execution_count": 75,
   "metadata": {},
   "outputs": [
    {
     "data": {
      "text/plain": [
       "['1008']"
      ]
     },
     "execution_count": 75,
     "metadata": {},
     "output_type": "execute_result"
    }
   ],
   "source": [
    "infoPressao = soup.find(id='momento-pressao').get_text()\n",
    "infoPressao = re.findall('\\d+', infoPressao)\n",
    "infoPressao"
   ]
  },
  {
   "cell_type": "code",
   "execution_count": 88,
   "metadata": {},
   "outputs": [
    {
     "data": {
      "text/plain": [
       "('35°', '23°', '13', '62', '1008')"
      ]
     },
     "execution_count": 88,
     "metadata": {},
     "output_type": "execute_result"
    }
   ],
   "source": [
    "tempMax, tempMin, infoVento[0], infoUmidade[0], infoPressao[0]"
   ]
  },
  {
   "cell_type": "code",
   "execution_count": 65,
   "metadata": {
    "collapsed": true
   },
   "outputs": [],
   "source": [
    "# Importando pacote externo ao Python\n",
    "import sqlite3"
   ]
  },
  {
   "cell_type": "code",
   "execution_count": 76,
   "metadata": {
    "collapsed": true
   },
   "outputs": [],
   "source": [
    "# Criando conexão com o banco\n",
    "con = sqlite3.connect('q03_final.db')"
   ]
  },
  {
   "cell_type": "code",
   "execution_count": 78,
   "metadata": {},
   "outputs": [
    {
     "name": "stdout",
     "output_type": "stream",
     "text": [
      "Table created successfully!\n"
     ]
    }
   ],
   "source": [
    "# Criando uma tabela\n",
    "con.execute(''' CREATE TABLE PREVISAO\n",
    "            (ID INT PRIMARY KEY NOT NULL,\n",
    "            TEMPMAX INT NOT NULL,\n",
    "            TEMPMIN INT NOT NULL,\n",
    "            VENTO INT NOT NULL,\n",
    "            UMIDADE INT NOT NULL);''')\n",
    "print ('Table created successfully!')\n",
    "\n",
    "con.close()"
   ]
  },
  {
   "cell_type": "markdown",
   "metadata": {},
   "source": [
    "### Insert Operation"
   ]
  },
  {
   "cell_type": "code",
   "execution_count": 83,
   "metadata": {},
   "outputs": [
    {
     "name": "stdout",
     "output_type": "stream",
     "text": [
      "Iniciando conexão com o banco...\n",
      "Gravação realizada com sucesso!\n",
      "Finalizando conexão com o banco\n"
     ]
    }
   ],
   "source": [
    "con = sqlite3.connect('q03_final.db')\n",
    "print('Iniciando conexão com o banco...')\n",
    "con.execute(\"INSERT INTO PREVISAO (ID,TEMPMAX,TEMPMIN,VENTO, UMIDADE) \\\n",
    "    VALUES(1, %s, %s, %d, %d);\"%(tempMax.replace('°', ''), tempMin.replace('°',''), int(infoVento[0]), int(infoChuva[0])))\n",
    "con.commit()\n",
    "print('Gravação realizada com sucesso!')\n",
    "con.close()\n",
    "print('Finalizando conexão com o banco')"
   ]
  },
  {
   "cell_type": "markdown",
   "metadata": {},
   "source": [
    "### Select Operation"
   ]
  },
  {
   "cell_type": "code",
   "execution_count": 98,
   "metadata": {},
   "outputs": [
    {
     "name": "stdout",
     "output_type": "stream",
     "text": [
      "Iniciando conexeção com o banco...\n",
      "ID =  1\n",
      "TEMPMAX =  35\n",
      "TEMPMIN =  23\n",
      "VENTO =  13\n",
      "UMIDADE =  0 \n",
      "\n",
      "ID =  2\n",
      "TEMPMAX =  35\n",
      "TEMPMIN =  23\n",
      "VENTO =  13\n",
      "UMIDADE =  0 \n",
      "\n",
      "ID =  3\n",
      "TEMPMAX =  36\n",
      "TEMPMIN =  23\n",
      "VENTO =  8\n",
      "UMIDADE =  0 \n",
      "\n",
      "ID =  4\n",
      "TEMPMAX =  36\n",
      "TEMPMIN =  23\n",
      "VENTO =  8\n",
      "UMIDADE =  0 \n",
      "\n",
      "ID =  5\n",
      "TEMPMAX =  35\n",
      "TEMPMIN =  23\n",
      "VENTO =  13\n",
      "UMIDADE =  0 \n",
      "\n",
      "ID =  6\n",
      "TEMPMAX =  36\n",
      "TEMPMIN =  23\n",
      "VENTO =  8\n",
      "UMIDADE =  0 \n",
      "\n",
      "Operação realizada com sucesso!\n",
      "Finalizando conexão com o banco\n"
     ]
    }
   ],
   "source": [
    "con = sqlite3.connect('q03_final.db')\n",
    "print('Iniciando conexeção com o banco...')\n",
    "cursor = con.execute('SELECT id, tempmax, tempmin, vento, umidade from PREVISAO')\n",
    "for row in cursor:\n",
    "    print('ID = ', row[0])\n",
    "    print('TEMPMAX = ', row[1])\n",
    "    print('TEMPMIN = ', row[2])\n",
    "    print('VENTO = ', row[3])\n",
    "    print('UMIDADE = ', row[4],'\\n')\n",
    "\n",
    "print('Operação realizada com sucesso!')\n",
    "con.close()\n",
    "print('Finalizando conexão com o banco')"
   ]
  },
  {
   "cell_type": "markdown",
   "metadata": {},
   "source": [
    "### Unindo todas as partes temos..."
   ]
  },
  {
   "cell_type": "code",
   "execution_count": 91,
   "metadata": {},
   "outputs": [
    {
     "name": "stdout",
     "output_type": "stream",
     "text": [
      "Downloading:  https://www.climatempo.com.br/previsao-do-tempo/cidade/264/teresina-pi\n",
      "Iniciando conexão com o banco...\n",
      "Gravação realizada com sucesso!\n",
      "Finalizando conexão com o banco\n",
      "Iniciando conexeção com o banco...\n",
      "ID =  1\n",
      "TEMPMAX =  35\n",
      "TEMPMIN =  23 \n",
      "\n",
      "ID =  2\n",
      "TEMPMAX =  35\n",
      "TEMPMIN =  23 \n",
      "\n",
      "Operação realizada com sucesso!\n",
      "Finalizando conexão com o banco\n",
      "Downloading:  https://www.climatempo.com.br/previsao-do-tempo/cidade/264/teresina-pi\n",
      "Iniciando conexão com o banco...\n",
      "Gravação realizada com sucesso!\n",
      "Finalizando conexão com o banco\n",
      "Iniciando conexeção com o banco...\n",
      "ID =  1\n",
      "TEMPMAX =  35\n",
      "TEMPMIN =  23 \n",
      "\n",
      "ID =  2\n",
      "TEMPMAX =  35\n",
      "TEMPMIN =  23 \n",
      "\n",
      "ID =  3\n",
      "TEMPMAX =  36\n",
      "TEMPMIN =  23 \n",
      "\n",
      "Operação realizada com sucesso!\n",
      "Finalizando conexão com o banco\n",
      "Downloading:  https://www.climatempo.com.br/previsao-do-tempo/cidade/264/teresina-pi\n",
      "Iniciando conexão com o banco...\n",
      "Gravação realizada com sucesso!\n",
      "Finalizando conexão com o banco\n",
      "Iniciando conexeção com o banco...\n",
      "ID =  1\n",
      "TEMPMAX =  35\n",
      "TEMPMIN =  23 \n",
      "\n",
      "ID =  2\n",
      "TEMPMAX =  35\n",
      "TEMPMIN =  23 \n",
      "\n",
      "ID =  3\n",
      "TEMPMAX =  36\n",
      "TEMPMIN =  23 \n",
      "\n",
      "ID =  4\n",
      "TEMPMAX =  36\n",
      "TEMPMIN =  23 \n",
      "\n",
      "Operação realizada com sucesso!\n",
      "Finalizando conexão com o banco\n",
      "Downloading:  https://www.climatempo.com.br/previsao-do-tempo/cidade/264/teresina-pi\n",
      "Iniciando conexão com o banco...\n",
      "Gravação realizada com sucesso!\n",
      "Finalizando conexão com o banco\n",
      "Iniciando conexeção com o banco...\n",
      "ID =  1\n",
      "TEMPMAX =  35\n",
      "TEMPMIN =  23 \n",
      "\n",
      "ID =  2\n",
      "TEMPMAX =  35\n",
      "TEMPMIN =  23 \n",
      "\n",
      "ID =  3\n",
      "TEMPMAX =  36\n",
      "TEMPMIN =  23 \n",
      "\n",
      "ID =  4\n",
      "TEMPMAX =  36\n",
      "TEMPMIN =  23 \n",
      "\n",
      "ID =  5\n",
      "TEMPMAX =  35\n",
      "TEMPMIN =  23 \n",
      "\n",
      "Operação realizada com sucesso!\n",
      "Finalizando conexão com o banco\n",
      "Downloading:  https://www.climatempo.com.br/previsao-do-tempo/cidade/264/teresina-pi\n",
      "Iniciando conexão com o banco...\n",
      "Gravação realizada com sucesso!\n",
      "Finalizando conexão com o banco\n",
      "Iniciando conexeção com o banco...\n",
      "ID =  1\n",
      "TEMPMAX =  35\n",
      "TEMPMIN =  23 \n",
      "\n",
      "ID =  2\n",
      "TEMPMAX =  35\n",
      "TEMPMIN =  23 \n",
      "\n",
      "ID =  3\n",
      "TEMPMAX =  36\n",
      "TEMPMIN =  23 \n",
      "\n",
      "ID =  4\n",
      "TEMPMAX =  36\n",
      "TEMPMIN =  23 \n",
      "\n",
      "ID =  5\n",
      "TEMPMAX =  35\n",
      "TEMPMIN =  23 \n",
      "\n",
      "ID =  6\n",
      "TEMPMAX =  36\n",
      "TEMPMIN =  23 \n",
      "\n",
      "Operação realizada com sucesso!\n",
      "Finalizando conexão com o banco\n"
     ]
    }
   ],
   "source": [
    "# Importando pacote externo ao Python\n",
    "import sqlite3\n",
    "# Importando pacote request externo ao Python\n",
    "import requests\n",
    "# Importanto pacote externo ao Python, e\n",
    "from bs4 import BeautifulSoup\n",
    "# Importando time para controlar a frequência de requisições\n",
    "import time\n",
    "\n",
    "# Definindo uma função para efetuar o download da página\n",
    "def download(url, num_retries=2):\n",
    "    print('Downloading: ', url)\n",
    "    page = None\n",
    "    try:\n",
    "        response = requests.get(url)\n",
    "        page = response.text\n",
    "        if response.status_code >= 400:\n",
    "            print('Download error:', response.text)\n",
    "            if num_retries and 500 <= response.status_code < 600:\n",
    "                return download(url, num_retries - 1)\n",
    "    except requests.exceptions.RequestExceptions as e:\n",
    "        print('Download error: ', e.reason)\n",
    "    return page\n",
    "\n",
    "# Criando um contador para delimitar o loop\n",
    "count = 0;\n",
    "# Loop para execução do scrape\n",
    "while count < 5:\n",
    "    # Efetuando o download do site e iniciando a 'sopa'\n",
    "    url = 'https://www.climatempo.com.br/previsao-do-tempo/cidade/264/teresina-pi'\n",
    "    html = download(url)\n",
    "    soup = BeautifulSoup(html, 'html.parser')\n",
    "    \n",
    "    # Criação das variáveis\n",
    "    tempMax = soup.find(id='tempMax0').get_text()\n",
    "    tempMin = soup.find(id='tempMin0').get_text()\n",
    "    \n",
    "    infoVento = soup.find(id='momento-vento').get_text()\n",
    "    infoVento = re.findall('\\d+', infoVento)\n",
    "    infoVento\n",
    "    \n",
    "    infoUmidade = soup.find(id='momento-humidade').get_text()\n",
    "    infoUmidade = re.findall('\\d+', infoUmidade)\n",
    "    infoUmidade\n",
    "    \n",
    "    infoPressao = soup.find(id='momento-pressao').get_text()\n",
    "    infoPressao = re.findall('\\d+', infoPressao)\n",
    "    infoPressao\n",
    "    \n",
    "    # Insert - Banco de Dados\n",
    "    con = sqlite3.connect('q03_final.db')\n",
    "    print('Iniciando conexão com o banco...')\n",
    "    con.execute(\"INSERT INTO PREVISAO (ID,TEMPMAX,TEMPMIN,VENTO, UMIDADE) \\\n",
    "    VALUES(%d, %s, %s, %d, %d);\"%(count+2,tempMax.replace('°', ''), tempMin.replace('°',''), int(infoVento[0]), int(infoChuva[0])))\n",
    "    con.commit()\n",
    "    print('Gravação realizada com sucesso!')\n",
    "    con.close()\n",
    "    print('Finalizando conexão com o banco')\n",
    "\n",
    "    # Testando \n",
    "    con = sqlite3.connect('q03_final.db')\n",
    "    print('Iniciando conexeção com o banco...')\n",
    "    cursor = con.execute('SELECT id, tempmax, tempmin from PREVISAO')\n",
    "    for row in cursor:\n",
    "        print('ID = ', row[0])\n",
    "        print('TEMPMAX = ', row[1])\n",
    "        print('TEMPMIN = ', row[2],'\\n')\n",
    "\n",
    "    print('Operação realizada com sucesso!')\n",
    "    con.close()\n",
    "    print('Finalizando conexão com o banco')\n",
    "    time.sleep(20)\n",
    "    count+=1\n",
    "\n",
    "\n"
   ]
  },
  {
   "cell_type": "code",
   "execution_count": 99,
   "metadata": {},
   "outputs": [
    {
     "name": "stdout",
     "output_type": "stream",
     "text": [
      "Iniciando conexeção com o banco...\n",
      "ID =  1\n",
      "TEMPMAX =  35\n",
      "TEMPMIN =  23\n",
      "VENTO =  13\n",
      "UMIDADE =  0 \n",
      "\n",
      "ID =  2\n",
      "TEMPMAX =  35\n",
      "TEMPMIN =  23\n",
      "VENTO =  13\n",
      "UMIDADE =  0 \n",
      "\n",
      "ID =  3\n",
      "TEMPMAX =  36\n",
      "TEMPMIN =  23\n",
      "VENTO =  8\n",
      "UMIDADE =  0 \n",
      "\n",
      "ID =  4\n",
      "TEMPMAX =  36\n",
      "TEMPMIN =  23\n",
      "VENTO =  8\n",
      "UMIDADE =  0 \n",
      "\n",
      "ID =  5\n",
      "TEMPMAX =  35\n",
      "TEMPMIN =  23\n",
      "VENTO =  13\n",
      "UMIDADE =  0 \n",
      "\n",
      "ID =  6\n",
      "TEMPMAX =  36\n",
      "TEMPMIN =  23\n",
      "VENTO =  8\n",
      "UMIDADE =  0 \n",
      "\n",
      "Operação realizada com sucesso!\n",
      "Finalizando conexão com o banco\n"
     ]
    }
   ],
   "source": [
    "con = sqlite3.connect('q03_final.db')\n",
    "print('Iniciando conexeção com o banco...')\n",
    "cursor = con.execute('SELECT id, tempmax, tempmin, vento, umidade from PREVISAO')\n",
    "for row in cursor:\n",
    "    print('ID = ', row[0])\n",
    "    print('TEMPMAX = ', row[1])\n",
    "    print('TEMPMIN = ', row[2])\n",
    "    print('VENTO = ', row[3])\n",
    "    print('UMIDADE = ', row[4],'\\n')\n",
    "\n",
    "print('Operação realizada com sucesso!')\n",
    "con.close()\n",
    "print('Finalizando conexão com o banco')"
   ]
  },
  {
   "cell_type": "code",
   "execution_count": null,
   "metadata": {
    "collapsed": true
   },
   "outputs": [],
   "source": []
  }
 ],
 "metadata": {
  "kernelspec": {
   "display_name": "Python 3",
   "language": "python",
   "name": "python3"
  },
  "language_info": {
   "codemirror_mode": {
    "name": "ipython",
    "version": 3
   },
   "file_extension": ".py",
   "mimetype": "text/x-python",
   "name": "python",
   "nbconvert_exporter": "python",
   "pygments_lexer": "ipython3",
   "version": "3.6.3"
  }
 },
 "nbformat": 4,
 "nbformat_minor": 2
}
