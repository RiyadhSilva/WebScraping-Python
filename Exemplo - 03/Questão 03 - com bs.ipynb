{
 "cells": [
  {
   "cell_type": "markdown",
   "metadata": {},
   "source": [
    "## Questão 03 - Riyadh Levi"
   ]
  },
  {
   "cell_type": "code",
   "execution_count": 1,
   "metadata": {
    "collapsed": true
   },
   "outputs": [],
   "source": [
    "# Importando pacote request externo ao Python\n",
    "import requests"
   ]
  },
  {
   "cell_type": "code",
   "execution_count": 2,
   "metadata": {
    "collapsed": true
   },
   "outputs": [],
   "source": [
    "# Definindo uma função para efetuar o download da página\n",
    "def download(url, num_retries=2):\n",
    "    print('Downloading: ', url)\n",
    "    page = None\n",
    "    try:\n",
    "        response = requests.get(url)\n",
    "        page = response.text\n",
    "        if response.status_code >= 400:\n",
    "            print('Download error:', response.text)\n",
    "            if num_retries and 500 <= response.status_code < 600:\n",
    "                return download(url, num_retries - 1)\n",
    "    except requests.exceptions.RequestExceptions as e:\n",
    "        print('Download error: ', e.reason)\n",
    "    return page"
   ]
  },
  {
   "cell_type": "code",
   "execution_count": 14,
   "metadata": {},
   "outputs": [
    {
     "name": "stdout",
     "output_type": "stream",
     "text": [
      "Downloading:  https://www.climatempo.com.br/previsao-do-tempo/cidade/264/teresina-pi\n"
     ]
    }
   ],
   "source": [
    "# Importanto pacote externo ao Python, efetuando o download do site e iniciando a 'sopa'\n",
    "from bs4 import BeautifulSoup\n",
    "url = 'https://www.climatempo.com.br/previsao-do-tempo/cidade/264/teresina-pi'\n",
    "html = download(url)\n",
    "soup = BeautifulSoup(html, 'html.parser')"
   ]
  },
  {
   "cell_type": "code",
   "execution_count": 87,
   "metadata": {},
   "outputs": [],
   "source": [
    "tempMax = soup.find(id='tempMax0').get_text()"
   ]
  },
  {
   "cell_type": "code",
   "execution_count": 88,
   "metadata": {
    "collapsed": true
   },
   "outputs": [],
   "source": [
    "tempMin = soup.find(id='tempMin0').get_text()"
   ]
  },
  {
   "cell_type": "code",
   "execution_count": 42,
   "metadata": {},
   "outputs": [],
   "source": [
    "demaisDados = soup.find_all(class_='left text-center small-12 top5 normal font12 txt-black')"
   ]
  },
  {
   "cell_type": "code",
   "execution_count": 72,
   "metadata": {},
   "outputs": [],
   "source": [
    "dadosLimpos = []\n",
    "for dado in demaisDados:\n",
    "    dado_limpo = dado.get_text().replace('\\n', '').replace('            ','')\n",
    "    dadosLimpos.append(dado_limpo)\n",
    "    "
   ]
  },
  {
   "cell_type": "code",
   "execution_count": 73,
   "metadata": {},
   "outputs": [
    {
     "data": {
      "text/plain": [
       "['10mm90%', '83%43%', 'ENE6km/h', '05:25h17:46h']"
      ]
     },
     "execution_count": 73,
     "metadata": {},
     "output_type": "execute_result"
    }
   ],
   "source": [
    "dadosLimpos"
   ]
  },
  {
   "cell_type": "code",
   "execution_count": 132,
   "metadata": {},
   "outputs": [],
   "source": [
    "infoChuva = dadosLimpos[0].replace('%','').split('mm')\n",
    "infoAr    = dadosLimpos[1].split('%')\n",
    "infoVento = dadosLimpos[2].replace('km/h','').split('ENE')\n",
    "infoSol   = dadosLimpos[3].replace(':', '').split('h')\n",
    "infoAr.remove(infoAr[2])\n",
    "infoVento.remove(infoVento[0])\n",
    "infoSol.remove(infoSol[2])"
   ]
  },
  {
   "cell_type": "code",
   "execution_count": 133,
   "metadata": {},
   "outputs": [
    {
     "name": "stdout",
     "output_type": "stream",
     "text": [
      "['10', '90'] ['83', '43'] ['6'] ['0525', '1746']\n"
     ]
    }
   ],
   "source": [
    "print(infoChuva, infoAr, infoVento, infoSol)"
   ]
  },
  {
   "cell_type": "code",
   "execution_count": 83,
   "metadata": {
    "collapsed": true
   },
   "outputs": [],
   "source": [
    "# Importando pacote externo ao Python\n",
    "import sqlite3"
   ]
  },
  {
   "cell_type": "code",
   "execution_count": 84,
   "metadata": {
    "collapsed": true
   },
   "outputs": [],
   "source": [
    "# Criando conexão com o banco\n",
    "con = sqlite3.connect('questao_03.db')"
   ]
  },
  {
   "cell_type": "code",
   "execution_count": 86,
   "metadata": {},
   "outputs": [
    {
     "name": "stdout",
     "output_type": "stream",
     "text": [
      "Table created successfully!\n"
     ]
    }
   ],
   "source": [
    "# Criando uma tabela\n",
    "con.execute(''' CREATE TABLE PREVISAO\n",
    "            (ID INT PRIMARY KEY NOT NULL,\n",
    "            TEMPMAX INT NOT NULL,\n",
    "            TEMPMIN INT NOT NULL,\n",
    "            CHUVAMM INT NOT NULL,\n",
    "            CHUVAPOR INT NOT NULL,\n",
    "            UMIDMAX INT NOT NULL,\n",
    "            UMIDMIN INT NOT NULL,\n",
    "            VENTOVEL INT NOT NULL,\n",
    "            SOLNASCE CHAR(10),\n",
    "            SOLSEPOE CHAR(10));''')\n",
    "print ('Table created successfully!')\n",
    "\n",
    "con.close()"
   ]
  },
  {
   "cell_type": "markdown",
   "metadata": {},
   "source": [
    "### Insert Operation"
   ]
  },
  {
   "cell_type": "code",
   "execution_count": 134,
   "metadata": {},
   "outputs": [
    {
     "name": "stdout",
     "output_type": "stream",
     "text": [
      "Iniciando conexão com o banco...\n",
      "Gravação realizada com sucesso!\n",
      "Finalizando conexão com o banco\n"
     ]
    }
   ],
   "source": [
    "con = sqlite3.connect('questao_03.db')\n",
    "print('Iniciando conexão com o banco...')\n",
    "con.execute(\"INSERT INTO PREVISAO (ID,TEMPMAX,TEMPMIN,CHUVAMM, CHUVAPOR, UMIDMAX, UMIDMIN, VENTOVEL, SOLNASCE, SOLSEPOE) \\\n",
    "    VALUES(2, %s, %s, %s, %s, %s, %s, %s, %s, %s);\"%(tempMax.replace('°', ''), tempMin.replace('°',''), infoChuva[0], infoChuva[1],infoAr[0],infoAr[1],infoVento[0],infoSol[0],infoSol[1]))\n",
    "con.commit()\n",
    "print('Gravação realizada com sucesso!')\n",
    "con.close()\n",
    "print('Finalizando conexão com o banco')"
   ]
  },
  {
   "cell_type": "markdown",
   "metadata": {},
   "source": [
    "### Select Operation"
   ]
  },
  {
   "cell_type": "code",
   "execution_count": 135,
   "metadata": {},
   "outputs": [
    {
     "name": "stdout",
     "output_type": "stream",
     "text": [
      "Iniciando conexeção com o banco...\n",
      "ID =  1\n",
      "TEMPMAX =  36\n",
      "TEMPMIN =  24\n",
      "CHUVAMM =  10\n",
      "CHUVAPOR =  90\n",
      "UMIDMAX =  83\n",
      "UMIDMIN =  43\n",
      "VENTOVEL =  6\n",
      "SOLNASCE =  -20\n",
      "SOLSEPOE =  -29 \n",
      "\n",
      "ID =  2\n",
      "TEMPMAX =  36\n",
      "TEMPMIN =  24\n",
      "CHUVAMM =  10\n",
      "CHUVAPOR =  90\n",
      "UMIDMAX =  83\n",
      "UMIDMIN =  43\n",
      "VENTOVEL =  6\n",
      "SOLNASCE =  525\n",
      "SOLSEPOE =  1746 \n",
      "\n",
      "Operação realizada com sucesso!\n",
      "Finalizando conexão com o banco\n"
     ]
    }
   ],
   "source": [
    "con = sqlite3.connect('questao_03.db')\n",
    "print('Iniciando conexeção com o banco...')\n",
    "cursor = con.execute('SELECT id, tempmax, tempmin, chuvamm, chuvapor, umidmax, umidmin, ventovel, solnasce, solsepoe from PREVISAO')\n",
    "for row in cursor:\n",
    "    print('ID = ', row[0])\n",
    "    print('TEMPMAX = ', row[1])\n",
    "    print('TEMPMIN = ', row[2])\n",
    "    print('CHUVAMM = ', row[3])\n",
    "    print('CHUVAPOR = ', row[4])\n",
    "    print('UMIDMAX = ', row[5])\n",
    "    print('UMIDMIN = ', row[6])\n",
    "    print('VENTOVEL = ', row[7])\n",
    "    print('SOLNASCE = ', row[8])\n",
    "    print('SOLSEPOE = ', row[9],'\\n')\n",
    "\n",
    "print('Operação realizada com sucesso!')\n",
    "con.close()\n",
    "print('Finalizando conexão com o banco')"
   ]
  },
  {
   "cell_type": "markdown",
   "metadata": {},
   "source": [
    "### Update Operation"
   ]
  },
  {
   "cell_type": "code",
   "execution_count": null,
   "metadata": {},
   "outputs": [],
   "source": [
    "con = sqlite3.connect('teste.db')\n",
    "print('Iniciando conexão com o banco...', '\\n')\n",
    "\n",
    "con.execute('UPDATE COMPANY set SALARY = 35000.00 where ID = 1')\n",
    "con.commit\n",
    "print('Número de linhas atualizadas: ', con.total_changes)\n",
    "\n",
    "cursor = con.execute('SELECT id, name, address, salary from COMPANY')\n",
    "for row in cursor:\n",
    "    print('ID = ', row[0])\n",
    "    print('NAME = ', row[1])\n",
    "    print('ADDRESS = ', row[2])\n",
    "    print('SALARY = ', row[3], '\\n')\n",
    "\n",
    "print('Operação realizada com sucesso!')\n",
    "con.close()\n",
    "print('Finalizando conexão com o banco')"
   ]
  },
  {
   "cell_type": "markdown",
   "metadata": {},
   "source": [
    "### Delete Operation"
   ]
  },
  {
   "cell_type": "code",
   "execution_count": null,
   "metadata": {},
   "outputs": [],
   "source": [
    "con = sqlite3.connect('teste.db')\n",
    "print('Iniando conexão com o banco...', '\\n')\n",
    "\n",
    "con.execute('DELETE from COMPANY where ID = 1;')\n",
    "con.commit()\n",
    "print('Total de linhas deletadas: ', con.total_changes)\n",
    "\n",
    "cursor = con.execute('SELECT id, name, address, salary from COMPANY')\n",
    "for row in cursor:\n",
    "    print('ID = ', row[0])\n",
    "    print('NAME = ', row[1])\n",
    "    print('ADDRESS = ', row[2])\n",
    "    print('SALARY = ', row[3], '\\n')\n",
    "\n",
    "print('Operação realizada com sucesso!')\n",
    "con.close()\n",
    "print('Finalizando conexão com o banco')"
   ]
  },
  {
   "cell_type": "code",
   "execution_count": null,
   "metadata": {},
   "outputs": [],
   "source": [
    "import urllib.request as urllib2\n",
    "\n",
    "def main():\n",
    "    download_file(\"http://slav0nic.org.ua/static/books/python/beginning-game-development-with-python-and-pygame-from-novice-to-professional.9781590598726.29808.pdf\")\n",
    "\n",
    "def download_file(download_url):\n",
    "    response = urllib2.urlopen(download_url)\n",
    "    file = open(\"python_game.pdf\", 'wb')\n",
    "    file.write(response.read())\n",
    "    file.close()\n",
    "    print(\"Completed\")\n",
    "\n",
    "if __name__ == \"__main__\":\n",
    "    main()"
   ]
  },
  {
   "cell_type": "code",
   "execution_count": null,
   "metadata": {
    "collapsed": true
   },
   "outputs": [],
   "source": []
  }
 ],
 "metadata": {
  "kernelspec": {
   "display_name": "Python 3",
   "language": "python",
   "name": "python3"
  },
  "language_info": {
   "codemirror_mode": {
    "name": "ipython",
    "version": 3
   },
   "file_extension": ".py",
   "mimetype": "text/x-python",
   "name": "python",
   "nbconvert_exporter": "python",
   "pygments_lexer": "ipython3",
   "version": "3.6.3"
  }
 },
 "nbformat": 4,
 "nbformat_minor": 2
}
